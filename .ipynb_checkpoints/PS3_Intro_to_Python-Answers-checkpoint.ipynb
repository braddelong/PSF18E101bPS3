{
 "cells": [
  {
   "cell_type": "markdown",
   "metadata": {},
   "source": [
    "### Macroeconomics \n",
    "\n",
    "# Problem Set 3: Introduction to Python\n",
    "#### Due 2018-09-05 We 11:59 pm via upload to http://okpy.org\n",
    "\n",
    "### J. Bradford DeLong\n",
    "\n",
    "Welcome to 101B! This introductory notebook will familiarize you with some of the basic strategies for data analysis that will be useful to you throughout the course. It will cover an overview of our software, an introduction to programming, and some economics.\n",
    "\n",
    "## Table of Contents\n",
    "\n",
    "1 - [Computing Environment](#computing environment)\n",
    "\n",
    "2 - [Introduction to Coding Concepts](#programming concepts)\n",
    "    \n",
    "&nbsp;&nbsp;&nbsp;&nbsp;&nbsp;&nbsp; 1 - [Python Basics](#python basics)\n",
    "\n",
    "&nbsp;&nbsp;&nbsp;&nbsp;&nbsp;&nbsp; 2 - [Pandas](#pandas)\n",
    "\n",
    "&nbsp;&nbsp;&nbsp;&nbsp;&nbsp;&nbsp; 3 - [Visualization](#viz)\n",
    "\n",
    "3 - [Math and Economic Concepts Review](#econ)\n",
    "\n",
    "&nbsp;&nbsp;&nbsp;&nbsp;&nbsp;&nbsp; 1 - [Review: Math as a Tool](#chapter 1)\n",
    "\n",
    "&nbsp;&nbsp;&nbsp;&nbsp;&nbsp;&nbsp; 2 - [Review: Measuring the Economy Concepts and Quantities](#chapter 2)"
   ]
  },
  {
   "cell_type": "markdown",
   "metadata": {},
   "source": [
    "## Our Computing Environment, Jupyter notebooks  <a id='computing environment'></a>\n",
    "This webpage is called a Jupyter notebook. A notebook is a place to write programs and view their results. \n",
    "\n",
    "### Text cells\n",
    "In a notebook, each rectangle containing text or code is called a *cell*.\n",
    "\n",
    "Text cells (like this one) can be edited by double-clicking on them. They're written in a simple format called [Markdown](http://daringfireball.net/projects/markdown/syntax) to add formatting and section headings.  You don't need to learn Markdown, but you might want to.\n",
    "\n",
    "After you edit a text cell, click the \"run cell\" button at the top that looks like ▶| to confirm any changes. (Try not to delete the instructions of the lab.)"
   ]
  },
  {
   "cell_type": "markdown",
   "metadata": {},
   "source": [
    "**Understanding Check 1** This paragraph is in its own text cell.  Try editing it so that this sentence is the last sentence in the paragraph, and then click the \"run cell\" ▶| button .  This sentence, for example, should be deleted.  So should this one."
   ]
  },
  {
   "cell_type": "markdown",
   "metadata": {},
   "source": [
    "### Code cells\n",
    "Other cells contain code in the Python 3 language. Running a code cell will execute all of the code it contains.\n",
    "\n",
    "To run the code in a code cell, first click on that cell to activate it.  It'll be highlighted with a little green or blue rectangle.  Next, either press ▶| or hold down the `shift` key and press `return` or `enter`.\n",
    "\n",
    "Try running this cell:"
   ]
  },
  {
   "cell_type": "code",
   "execution_count": 1,
   "metadata": {},
   "outputs": [
    {
     "name": "stdout",
     "output_type": "stream",
     "text": [
      "Hello, World!\n"
     ]
    }
   ],
   "source": [
    "print(\"Hello, World!\")"
   ]
  },
  {
   "cell_type": "markdown",
   "metadata": {},
   "source": [
    "And this one:"
   ]
  },
  {
   "cell_type": "code",
   "execution_count": 2,
   "metadata": {},
   "outputs": [
    {
     "name": "stdout",
     "output_type": "stream",
     "text": [
      "👋, 🌏!\n"
     ]
    }
   ],
   "source": [
    "print(\"\\N{WAVING HAND SIGN}, \\N{EARTH GLOBE ASIA-AUSTRALIA}!\")"
   ]
  },
  {
   "cell_type": "markdown",
   "metadata": {},
   "source": [
    "The fundamental building block of Python code is an expression. Cells can contain multiple lines with multiple expressions. When you run a cell, the lines of code are executed in the order in which they appear. Every `print` expression prints a line. Run the next cell and notice the order of the output."
   ]
  },
  {
   "cell_type": "code",
   "execution_count": 13,
   "metadata": {},
   "outputs": [
    {
     "name": "stdout",
     "output_type": "stream",
     "text": [
      "First this line is printed,\n",
      "then the whole 🌏,\n",
      "and then this one.\n"
     ]
    }
   ],
   "source": [
    "print(\"First this line is printed,\")\n",
    "print(\"then the whole \\N{EARTH GLOBE ASIA-AUSTRALIA},\")\n",
    "print(\"and then this one.\")"
   ]
  },
  {
   "cell_type": "markdown",
   "metadata": {},
   "source": [
    "**Understanding Check 2** Change the cell above so that it prints out:\n",
    "\n",
    "    First this line,\n",
    "    then the whole 🌏,\n",
    "    and then this one."
   ]
  },
  {
   "cell_type": "markdown",
   "metadata": {},
   "source": [
    "Don't be scared if you see a \"Kernel Restarting\" message! Your data and work will still be saved. Once you see \"Kernel Ready\" in a light blue box on the top right of the notebook, you'll be ready to work again. You should rerun any cells with imports, variables, and loaded data."
   ]
  },
  {
   "cell_type": "markdown",
   "metadata": {},
   "source": [
    "<img src=\"images/kernel.png\">"
   ]
  },
  {
   "cell_type": "markdown",
   "metadata": {},
   "source": [
    "### Writing Jupyter notebooks\n",
    "You can use Jupyter notebooks for your own projects or documents.  When you make your own notebook, you'll need to create your own cells for text and code.\n",
    "\n",
    "To add a cell, click the + button in the menu bar.  It'll start out as a text cell.  You can change it to a code cell by clicking inside it so it's highlighted, clicking the drop-down box next to the restart (⟳) button in the menu bar, and choosing \"Code\".\n",
    "\n",
    "**Understanding Check 3** Add a code cell below this one.  Write code in it that prints out:\n",
    "   \n",
    "    A whole new cell! ♪🌏♪\n",
    "\n",
    "(That musical note symbol is like the Earth symbol.  Its long-form name is `\\N{EIGHTH NOTE}`.)\n",
    "\n",
    "Run your cell to verify that it works."
   ]
  },
  {
   "cell_type": "code",
   "execution_count": 14,
   "metadata": {},
   "outputs": [
    {
     "name": "stdout",
     "output_type": "stream",
     "text": [
      "A whole new cell! ♪🌏♪\n"
     ]
    }
   ],
   "source": [
    "print(\"A whole new cell! \\N{EIGHTH NOTE}\\N{EARTH GLOBE ASIA-AUSTRALIA}\\N{EIGHTH NOTE}\")"
   ]
  },
  {
   "cell_type": "markdown",
   "metadata": {},
   "source": [
    "### Errors\n",
    "Python is a language, and like natural human languages, it has rules.  It differs from natural language in two important ways:\n",
    "1. The rules are *simple*.  You can learn most of them in a few weeks and gain reasonable proficiency with the language in a semester.\n",
    "2. The rules are *rigid*.  If you're proficient in a natural language, you can understand a non-proficient speaker, glossing over small mistakes.  A computer running Python code is not smart enough to do that.\n",
    "\n",
    "Whenever you write code, you'll make mistakes.  When you run a code cell that has errors, Python will sometimes produce error messages to tell you what you did wrong.\n",
    "\n",
    "Errors are okay; even experienced programmers make many errors.  When you make an error, you just have to find the source of the problem, fix it, and move on.\n",
    "\n",
    "We have made an error in the next cell.  Run it and see what happens."
   ]
  },
  {
   "cell_type": "code",
   "execution_count": 4,
   "metadata": {},
   "outputs": [
    {
     "ename": "SyntaxError",
     "evalue": "unexpected EOF while parsing (<ipython-input-4-0fbe4427aee1>, line 1)",
     "output_type": "error",
     "traceback": [
      "\u001b[0;36m  File \u001b[0;32m\"<ipython-input-4-0fbe4427aee1>\"\u001b[0;36m, line \u001b[0;32m1\u001b[0m\n\u001b[0;31m    print(\"This line is missing something.\"\u001b[0m\n\u001b[0m                                           ^\u001b[0m\n\u001b[0;31mSyntaxError\u001b[0m\u001b[0;31m:\u001b[0m unexpected EOF while parsing\n"
     ]
    }
   ],
   "source": [
    "print(\"This line is missing something.\""
   ]
  },
  {
   "cell_type": "markdown",
   "metadata": {},
   "source": [
    "You should see something like this (minus our annotations):\n",
    "\n",
    "<img src=\"images/error.jpg\"/>\n",
    "\n",
    "The last line of the error output attempts to tell you what went wrong.  The *syntax* of a language is its structure, and this `SyntaxError` tells you that you have created an illegal structure.  \"`EOF`\" means \"end of file,\" so the message is saying Python expected you to write something more (in this case, a right parenthesis) before finishing the cell.\n",
    "\n",
    "There's a lot of terminology in programming languages, but you don't need to know it all in order to program effectively. If you see a cryptic message like this, you can often get by without deciphering it.  (Of course, if you're frustrated, feel free to ask a friend or post on the class Piazza.)\n",
    "\n",
    "**Understanding Check 4** Try to fix the code above so that you can run the cell and see the intended message instead of an error."
   ]
  },
  {
   "cell_type": "markdown",
   "metadata": {},
   "source": [
    "### Submitting your work\n",
    "All assignments in the course will be distributed as notebooks like this one, and you will submit your work from the notebook. We will use a system called OK that checks your work and helps you submit. At the top of each assignment, you'll see a cell like the one below that prompts you to identify yourself. Run it and follow the instructions."
   ]
  },
  {
   "cell_type": "code",
   "execution_count": 5,
   "metadata": {},
   "outputs": [
    {
     "name": "stdout",
     "output_type": "stream",
     "text": [
      "Requirement already up-to-date: okpy in /usr/local/lib/python3.6/site-packages (1.13.11)\n",
      "Requirement already satisfied, skipping upgrade: requests==2.12.4 in /usr/local/lib/python3.6/site-packages (from okpy) (2.12.4)\n",
      "Requirement already satisfied, skipping upgrade: coverage==3.7.1 in /usr/local/lib/python3.6/site-packages (from okpy) (3.7.1)\n",
      "=====================================================================\n",
      "Assignment: PS3 Intro Notebook\n",
      "OK, version v1.13.11\n",
      "=====================================================================\n",
      "\n",
      "\n",
      "Open the following URL:\n",
      "\n",
      "https://okpy.org/client/login/\n",
      "\n",
      "After logging in, copy the code from the web page and paste it into the box.\n",
      "Then press the \"Enter\" key on your keyboard.\n",
      "\n",
      "Paste your code here: 24QwgdAobMtqxaDMdZnfunJGyC98t0\n",
      "Successfully logged in as jbdelong@berkeley.edu\n"
     ]
    }
   ],
   "source": [
    "# Don't change this cell; just run it. \n",
    "# The result will give you directions about how to log in to the submission system, called OK.\n",
    "# Once you're logged in, you can run this cell again, but it won't ask you who you are because\n",
    "# it remembers you. However, you will need to log in once per assignment.\n",
    "!pip install -U okpy\n",
    "from client.api.notebook import Notebook\n",
    "ok = Notebook('PS3_Intro_to_Python.ok')\n",
    "_ = ok.auth(force=True, inline=True)"
   ]
  },
  {
   "cell_type": "markdown",
   "metadata": {},
   "source": [
    "When you finish an assignment, you need to submit it by running the submit command below. It's OK to submit multiple times, OK will only try to grade your final submission for each assignment. Don't forget to submit your assignment, even if you haven't finished everything."
   ]
  },
  {
   "cell_type": "code",
   "execution_count": null,
   "metadata": {
    "collapsed": true
   },
   "outputs": [],
   "source": [
    "_ = ok.submit()"
   ]
  },
  {
   "cell_type": "markdown",
   "metadata": {},
   "source": [
    "Now that you are comfortable with our computing environment, we are going to be moving into more of the fundamentals of Python, but first, run the cell below to ensure all the libraries needed for this notebook are installed."
   ]
  },
  {
   "cell_type": "code",
   "execution_count": 6,
   "metadata": {},
   "outputs": [
    {
     "name": "stdout",
     "output_type": "stream",
     "text": [
      "Requirement already satisfied: numpy in /usr/local/lib/python3.6/site-packages (1.15.1)\n",
      "Requirement already satisfied: pandas in /usr/local/lib/python3.6/site-packages (0.23.4)\n",
      "Requirement already satisfied: python-dateutil>=2.5.0 in /usr/local/lib/python3.6/site-packages (from pandas) (2.6.0)\n",
      "Requirement already satisfied: pytz>=2011k in /usr/local/lib/python3.6/site-packages (from pandas) (2018.5)\n",
      "Requirement already satisfied: numpy>=1.9.0 in /usr/local/lib/python3.6/site-packages (from pandas) (1.15.1)\n",
      "Requirement already satisfied: six>=1.5 in /usr/local/lib/python3.6/site-packages (from python-dateutil>=2.5.0->pandas) (1.10.0)\n",
      "Requirement already satisfied: matplotlib in /usr/local/lib/python3.6/site-packages (2.2.3)\n",
      "Requirement already satisfied: pyparsing!=2.0.4,!=2.1.2,!=2.1.6,>=2.0.1 in /usr/local/lib/python3.6/site-packages (from matplotlib) (2.2.0)\n",
      "Requirement already satisfied: pytz in /usr/local/lib/python3.6/site-packages (from matplotlib) (2018.5)\n",
      "Requirement already satisfied: six>=1.10 in /usr/local/lib/python3.6/site-packages (from matplotlib) (1.10.0)\n",
      "Requirement already satisfied: numpy>=1.7.1 in /usr/local/lib/python3.6/site-packages (from matplotlib) (1.15.1)\n",
      "Requirement already satisfied: kiwisolver>=1.0.1 in /usr/local/lib/python3.6/site-packages (from matplotlib) (1.0.1)\n",
      "Requirement already satisfied: cycler>=0.10 in /usr/local/lib/python3.6/site-packages (from matplotlib) (0.10.0)\n",
      "Requirement already satisfied: python-dateutil>=2.1 in /usr/local/lib/python3.6/site-packages (from matplotlib) (2.6.0)\n",
      "Requirement already satisfied: setuptools in /usr/local/lib/python3.6/site-packages (from kiwisolver>=1.0.1->matplotlib) (36.0.1)\n"
     ]
    }
   ],
   "source": [
    "!pip install numpy\n",
    "!pip install pandas\n",
    "!pip install matplotlib"
   ]
  },
  {
   "cell_type": "markdown",
   "metadata": {},
   "source": [
    "## Introduction to Programming Concepts <a id='programming concepts'></a>"
   ]
  },
  {
   "cell_type": "markdown",
   "metadata": {},
   "source": [
    "### Part 1: Python basics <a id='python basics'></a>\n",
    "Before getting into the more advanced analysis techniques that will be required in this course, we need to cover a few of the foundational elements of programming in Python.\n",
    "#### A. Expressions\n",
    "The departure point for all programming is the concept of the __expression__. An expression is a combination of variables, operators, and other Python elements that the language interprets and acts upon. Expressions act as a set of instructions to be fed through the interpreter, with the goal of generating specific outcomes. See below for some examples of basic expressions."
   ]
  },
  {
   "cell_type": "code",
   "execution_count": 7,
   "metadata": {},
   "outputs": [
    {
     "name": "stdout",
     "output_type": "stream",
     "text": [
      "4\n",
      "me and I\n",
      "me2\n",
      "144\n"
     ]
    }
   ],
   "source": [
    "# Examples of expressions:\n",
    "\n",
    "#addition\n",
    "print(2 + 2)\n",
    "\n",
    "#string concatenation \n",
    "print('me' + ' and I')\n",
    "\n",
    "#you can print a number with a string if you cast it \n",
    "print(\"me\" + str(2))\n",
    "\n",
    "#exponents\n",
    "print(12 ** 2)\n"
   ]
  },
  {
   "cell_type": "markdown",
   "metadata": {},
   "source": [
    "You will notice that only the last line in a cell gets printed out. If you want to see the values of previous expressions, you need to call `print` on that expression. Try adding `print` statements to some of the above expressions to get them to display."
   ]
  },
  {
   "cell_type": "markdown",
   "metadata": {},
   "source": [
    "#### B. Variables\n",
    "In the example below, `a` and `b` are Python objects known as __variables__. We are giving an object (in this case, an `integer` and a `float`, two Python data types) a name that we can store for later use. To use that value, we can simply type the name that we stored the value as. Variables are stored within the notebook's environment, meaning stored variable values carry over from cell to cell."
   ]
  },
  {
   "cell_type": "code",
   "execution_count": 15,
   "metadata": {
    "collapsed": true
   },
   "outputs": [],
   "source": [
    "a = 4\n",
    "b = 10/5"
   ]
  },
  {
   "cell_type": "markdown",
   "metadata": {},
   "source": [
    "Notice that when you create a variable, unlike what you previously saw with the expressions, it does not print anything out."
   ]
  },
  {
   "cell_type": "code",
   "execution_count": 16,
   "metadata": {},
   "outputs": [
    {
     "name": "stdout",
     "output_type": "stream",
     "text": [
      "4\n"
     ]
    },
    {
     "data": {
      "text/plain": [
       "6.0"
      ]
     },
     "execution_count": 16,
     "metadata": {},
     "output_type": "execute_result"
    }
   ],
   "source": [
    "# Notice that 'a' retains its value.\n",
    "print(a)\n",
    "a + b"
   ]
  },
  {
   "cell_type": "markdown",
   "metadata": {},
   "source": [
    "#### Question 1: Variables\n",
    "See if you can write a series of expressions that creates two new variables called __x__ and __y__ and assigns them values of __10.5__ and __7.2__. Then assign their product to the variable __combo__ and print it."
   ]
  },
  {
   "cell_type": "code",
   "execution_count": 19,
   "metadata": {},
   "outputs": [
    {
     "name": "stdout",
     "output_type": "stream",
     "text": [
      "75.60000000000001\n"
     ]
    }
   ],
   "source": [
    "# Fill in the missing lines to complete the expressions.\n",
    "x = 10.5\n",
    "y = 7.2\n",
    "combo = x * y\n",
    "print(combo)"
   ]
  },
  {
   "cell_type": "markdown",
   "metadata": {},
   "source": [
    "Running the cell below will give you some feed back on your responses. Though the OK tests are not always comprehensive (passing all of the tests does not guarantee full credit for questions), they give you a pretty good indication as to whether or not you're on track."
   ]
  },
  {
   "cell_type": "code",
   "execution_count": 20,
   "metadata": {},
   "outputs": [
    {
     "name": "stdout",
     "output_type": "stream",
     "text": [
      "~~~~~~~~~~~~~~~~~~~~~~~~~~~~~~~~~~~~~~~~~~~~~~~~~~~~~~~~~~~~~~~~~~~~~\n",
      "Running tests\n",
      "\n",
      "---------------------------------------------------------------------\n",
      "Test summary\n",
      "    Passed: 3\n",
      "    Failed: 0\n",
      "[ooooooooook] 100.0% passed\n",
      "\n"
     ]
    },
    {
     "data": {
      "text/plain": [
       "{'failed': 0, 'locked': 0, 'passed': 3}"
      ]
     },
     "execution_count": 20,
     "metadata": {},
     "output_type": "execute_result"
    }
   ],
   "source": [
    "ok.grade('q01')"
   ]
  },
  {
   "cell_type": "markdown",
   "metadata": {},
   "source": [
    "#### C. Lists\n",
    "The next topic is particularly useful in the kind of data manipulation that you will see throughout 101B. The following few cells will introduce the concept of __lists__ (and their counterpart, `numpy arrays`). Read through the following cell to understand the basic structure of a list. \n",
    "\n",
    "A list is an ordered collection of objects. They allow us to store and access groups of variables and other objects for easy access and analysis. Check out this [documentation](https://www.tutorialspoint.com/python/python_lists.htm) for an in-depth look at the capabilities of lists.\n",
    "\n",
    "To initialize a list, you use brackets. Putting objects separated by commas in between the brackets will add them to the list. "
   ]
  },
  {
   "cell_type": "code",
   "execution_count": 21,
   "metadata": {},
   "outputs": [
    {
     "name": "stdout",
     "output_type": "stream",
     "text": [
      "[]\n",
      "[1, 3, 6, 'lists', 'arefun', 4]\n"
     ]
    }
   ],
   "source": [
    "# an empty list\n",
    "lst = []\n",
    "print(lst)\n",
    "\n",
    "# reassigning our empty list to a new list\n",
    "lst = [1, 3, 6, 'lists', 'are' 'fun', 4]\n",
    "print(lst)"
   ]
  },
  {
   "cell_type": "markdown",
   "metadata": {},
   "source": [
    "To access a value in the list, put the index of the item you wish to access in brackets following the variable that stores the list. Lists in Python are zero-indexed, so the indicies for `lst` are 0, 1, 2, 3, 4, 5, and 6."
   ]
  },
  {
   "cell_type": "code",
   "execution_count": 22,
   "metadata": {},
   "outputs": [
    {
     "name": "stdout",
     "output_type": "stream",
     "text": [
      "6\n"
     ]
    }
   ],
   "source": [
    "# Elements are selected like this:\n",
    "example = lst[2]\n",
    "\n",
    "# The above line selects the 3rd element of lst (list indices are 0-offset) and sets it to a variable named example.\n",
    "print(example)"
   ]
  },
  {
   "cell_type": "markdown",
   "metadata": {},
   "source": [
    "It is important to note that when you store a list to a variable, you are actually storing the **pointer** to the list. That means if you assign your list to another variable, and you change the elements in your other variable, then you are changing the same data as in the original list. "
   ]
  },
  {
   "cell_type": "code",
   "execution_count": 23,
   "metadata": {},
   "outputs": [
    {
     "name": "stdout",
     "output_type": "stream",
     "text": [
      "4\n"
     ]
    }
   ],
   "source": [
    "a = [1,2,3] #original list\n",
    "b = a #b now points to list a \n",
    "b[0] = 4 \n",
    "print(a[0]) #return 4 since we modified the first element of the list pointed to by a and b "
   ]
  },
  {
   "cell_type": "markdown",
   "metadata": {},
   "source": [
    "#### Slicing lists\n",
    "As you can see from above, lists do not have to be made up of elements of the same kind. Indices do not have to be taken one at a time, either. Instead, we can take a slice of indices and return the elements at those indices as a separate list."
   ]
  },
  {
   "cell_type": "code",
   "execution_count": 24,
   "metadata": {},
   "outputs": [
    {
     "data": {
      "text/plain": [
       "[3, 6, 'lists']"
      ]
     },
     "execution_count": 24,
     "metadata": {},
     "output_type": "execute_result"
    }
   ],
   "source": [
    "### This line will store the first (inclusive) through fourth (exclusive) elements of lst as a new list called lst_2:\n",
    "lst_2 = lst[1:4]\n",
    "\n",
    "lst_2"
   ]
  },
  {
   "cell_type": "markdown",
   "metadata": {},
   "source": [
    "#### Question 2: Lists\n",
    "Build a list of length 10 containing whatever elements you'd like. Then, slice it into a new list of length five using a index slicing. Finally, assign the last element in your sliced list to the given variable and print it."
   ]
  },
  {
   "cell_type": "code",
   "execution_count": 26,
   "metadata": {
    "scrolled": true
   },
   "outputs": [
    {
     "name": "stdout",
     "output_type": "stream",
     "text": [
      "5\n"
     ]
    }
   ],
   "source": [
    "### Fill in the ellipses to complete the question.\n",
    "my_list = [1,3,3,4,5,6,7,8,9,9]\n",
    "\n",
    "my_list_sliced = my_list[0:5]\n",
    "\n",
    "last_of_sliced = my_list_sliced[4]\n",
    "\n",
    "print(last_of_sliced)"
   ]
  },
  {
   "cell_type": "code",
   "execution_count": 27,
   "metadata": {},
   "outputs": [
    {
     "name": "stdout",
     "output_type": "stream",
     "text": [
      "~~~~~~~~~~~~~~~~~~~~~~~~~~~~~~~~~~~~~~~~~~~~~~~~~~~~~~~~~~~~~~~~~~~~~\n",
      "Running tests\n",
      "\n",
      "---------------------------------------------------------------------\n",
      "Test summary\n",
      "    Passed: 3\n",
      "    Failed: 0\n",
      "[ooooooooook] 100.0% passed\n",
      "\n"
     ]
    },
    {
     "data": {
      "text/plain": [
       "{'failed': 0, 'locked': 0, 'passed': 3}"
      ]
     },
     "execution_count": 27,
     "metadata": {},
     "output_type": "execute_result"
    }
   ],
   "source": [
    "ok.grade('q02')"
   ]
  },
  {
   "cell_type": "markdown",
   "metadata": {},
   "source": [
    "Lists can also be operated on with a few built-in analysis functions. These include `min` and `max`, among others. Lists can also be concatenated together. Find some examples below."
   ]
  },
  {
   "cell_type": "code",
   "execution_count": 28,
   "metadata": {},
   "outputs": [
    {
     "name": "stdout",
     "output_type": "stream",
     "text": [
      "Max of a_list: 13\n",
      "Min of b_list: 1\n",
      "Concatenated: [1, 6, 4, 8, 13, 2, 4, 5, 2, 14, 9, 11]\n"
     ]
    }
   ],
   "source": [
    "# A list containing six integers.\n",
    "a_list = [1, 6, 4, 8, 13, 2]\n",
    "\n",
    "# Another list containing six integers.\n",
    "b_list = [4, 5, 2, 14, 9, 11]\n",
    "\n",
    "print('Max of a_list:', max(a_list))\n",
    "print('Min of b_list:', min(a_list))\n",
    "\n",
    "# Concatenate a_list and b_list:\n",
    "c_list = a_list + b_list\n",
    "print('Concatenated:', c_list)"
   ]
  },
  {
   "cell_type": "markdown",
   "metadata": {},
   "source": [
    "#### D. Numpy Arrays\n",
    "Closely related to the concept of a list is the array, a nested sequence of elements that is structurally identical to a list. Arrays, however, can be operated on arithmetically with much more versatility than regular lists. For the purpose of later data manipulation, we'll access arrays through [Numpy](https://docs.scipy.org/doc/numpy/reference/routines.html), which will require an import statement.\n",
    "\n",
    "Now run the next cell to import the numpy library into your notebook, and examine how numpy arrays can be used."
   ]
  },
  {
   "cell_type": "code",
   "execution_count": 29,
   "metadata": {
    "collapsed": true
   },
   "outputs": [],
   "source": [
    "import numpy as np"
   ]
  },
  {
   "cell_type": "code",
   "execution_count": 30,
   "metadata": {},
   "outputs": [
    {
     "name": "stdout",
     "output_type": "stream",
     "text": [
      "Undoubled Array:\n",
      "[0 1 2 3 4 5 6 7 8 9]\n",
      "Doubled Array:\n",
      "[ 0  2  4  6  8 10 12 14 16 18]\n"
     ]
    }
   ],
   "source": [
    "# Initialize an array of integers 0 through 9.\n",
    "example_array = np.array([0, 1, 2, 3, 4, 5, 6, 7, 8, 9])\n",
    "\n",
    "# This can also be accomplished using np.arange\n",
    "example_array_2 = np.arange(10)\n",
    "print('Undoubled Array:')\n",
    "print(example_array_2)\n",
    "\n",
    "# Double the values in example_array and print the new array.\n",
    "double_array = example_array*2\n",
    "print('Doubled Array:')\n",
    "print(double_array)"
   ]
  },
  {
   "cell_type": "markdown",
   "metadata": {},
   "source": [
    "This behavior differs from that of a list. See below what happens if you multiply a list."
   ]
  },
  {
   "cell_type": "code",
   "execution_count": 31,
   "metadata": {},
   "outputs": [
    {
     "data": {
      "text/plain": [
       "[1, 2, 3, 4, 5, 6, 7, 8, 9, 1, 2, 3, 4, 5, 6, 7, 8, 9]"
      ]
     },
     "execution_count": 31,
     "metadata": {},
     "output_type": "execute_result"
    }
   ],
   "source": [
    "example_list = [1, 2, 3, 4, 5, 6, 7, 8, 9]\n",
    "example_list * 2"
   ]
  },
  {
   "cell_type": "markdown",
   "metadata": {},
   "source": [
    "Notice that instead of multiplying each of the elements by two, multiplying a list and a number returns that many copies of that list. This is the reason that we will sometimes use Numpy over lists. Other mathematical operations have interesting behaviors with lists that you should explore on your own. "
   ]
  },
  {
   "cell_type": "markdown",
   "metadata": {},
   "source": [
    "#### E. Looping\n",
    "[Loops](https://www.tutorialspoint.com/python/python_loops.htm) are often useful in manipulating, iterating over, or transforming large lists and arrays. The first type we will discuss is the __for loop__. For loops are helpful in traversing a list and performing an action at each element. For example, the following code moves through every element in example_array, adds it to the previous element in example_array, and copies this sum to a new array."
   ]
  },
  {
   "cell_type": "code",
   "execution_count": 32,
   "metadata": {},
   "outputs": [
    {
     "data": {
      "text/plain": [
       "[5, 6, 7, 8, 9, 10, 11, 12, 13, 14]"
      ]
     },
     "execution_count": 32,
     "metadata": {},
     "output_type": "execute_result"
    }
   ],
   "source": [
    "new_list = []\n",
    "\n",
    "for element in example_array:\n",
    "    new_element = element + 5\n",
    "    new_list.append(new_element)\n",
    "\n",
    "new_list"
   ]
  },
  {
   "cell_type": "markdown",
   "metadata": {},
   "source": [
    "The most important line in the above cell is the \"`for element in...`\" line. This statement sets the structure of our  loop, instructing the machine to stop at every number in `example_array`, perform the indicated operations, and then move on. Once Python has stopped at every element in `example_array`, the loop is completed and the final line, which outputs `new_list`, is executed. It's important to note that \"element\" is an arbitrary variable name used to represent whichever index value the loop is currently operating on. We can change the variable name to whatever we want and achieve the same result, as long as we stay consistent. For example:"
   ]
  },
  {
   "cell_type": "code",
   "execution_count": 33,
   "metadata": {},
   "outputs": [
    {
     "data": {
      "text/plain": [
       "[5, 6, 7, 8, 9, 10, 11, 12, 13, 14]"
      ]
     },
     "execution_count": 33,
     "metadata": {},
     "output_type": "execute_result"
    }
   ],
   "source": [
    "newer_list = []\n",
    "\n",
    "for completely_arbitrary_name in example_array:\n",
    "    newer_element = completely_arbitrary_name + 5\n",
    "    newer_list.append(newer_element)\n",
    "    \n",
    "newer_list"
   ]
  },
  {
   "cell_type": "markdown",
   "metadata": {},
   "source": [
    "For loops can also iterate over ranges of numerical values. If I wanted to alter `example_array` without copying it over to a new list, I would use a numerical iterator to access list indices rather than the elements themselves. This iterator, called `i`, would range from 0, the value of the first index, to 9, the value of the last. I can make sure of this by using the built-in `range` and `len` functions."
   ]
  },
  {
   "cell_type": "code",
   "execution_count": 34,
   "metadata": {},
   "outputs": [
    {
     "data": {
      "text/plain": [
       "array([ 5,  6,  7,  8,  9, 10, 11, 12, 13, 14])"
      ]
     },
     "execution_count": 34,
     "metadata": {},
     "output_type": "execute_result"
    }
   ],
   "source": [
    "for i in range(len(example_array)):\n",
    "    example_array[i] = example_array[i] + 5\n",
    "\n",
    "example_array"
   ]
  },
  {
   "cell_type": "markdown",
   "metadata": {},
   "source": [
    "#### Other types of loops\n",
    "The __while loop__ repeatedly performs operations until a conditional is no longer satisfied. A conditional is a [boolean expression](https://en.wikipedia.org/wiki/Boolean_expression), that is an expression that evaluates to `True` or `False`. \n",
    "\n",
    "In the below example, an array of integers 0 to 9 is generated. When the program enters the while loop on the subsequent line, it notices that the maximum value of the array is less than 50. Because of this, it adds 1 to the fifth element, as instructed. Once the instructions embedded in the loop are complete, the program refers back to the conditional. Again, the maximum value is less than 50. This process repeats until the the fifth element, now the maximum value of the array, is equal to 50, at which point the conditional is no longer true and the loop breaks."
   ]
  },
  {
   "cell_type": "code",
   "execution_count": 35,
   "metadata": {},
   "outputs": [
    {
     "name": "stdout",
     "output_type": "stream",
     "text": [
      "Before: [0 1 2 3 4 5 6 7 8 9]\n",
      "After: [ 0  1  2  3 50  5  6  7  8  9]\n"
     ]
    }
   ],
   "source": [
    "while_array = np.arange(10)        # Generate our array of values\n",
    "\n",
    "print('Before:', while_array)\n",
    "\n",
    "while(max(while_array) < 50):      # Set our conditional\n",
    "    while_array[4] += 1            # Add 1 to the fifth element if the conditional is satisfied \n",
    "    \n",
    "print('After:', while_array)"
   ]
  },
  {
   "cell_type": "markdown",
   "metadata": {},
   "source": [
    "#### Question 3: Loops\n",
    "In the following cell, partial steps to manipulate an array are included. You must fill in the blanks to accomplish the following: <br>\n",
    "1. Iterate over the entire array, checking if each element is a multiple of 5\n",
    "2. If an element is not a multiple of 5, add 1 to it repeatedly until it is\n",
    "3. Iterate back over the list and print each element.\n",
    "\n",
    "> Hint: To check if an integer `x` is a multiple of `y`, use the modulus operator `%`. Typing `x % y` will return the remainder when `x` is divided by `y`. Therefore, (`x % y != 0`) will return `True` when `y` __does not divide__ `x`, and `False` when it does."
   ]
  },
  {
   "cell_type": "code",
   "execution_count": 36,
   "metadata": {},
   "outputs": [
    {
     "name": "stdout",
     "output_type": "stream",
     "text": [
      "15\n",
      "35\n",
      "50\n",
      "0\n",
      "25\n",
      "30\n",
      "20\n",
      "105\n",
      "45\n",
      "15\n",
      "80\n"
     ]
    }
   ],
   "source": [
    "import numpy as np\n",
    "\n",
    "# Make use of iterators, range, length, while loops, and indices to complete this question.\n",
    "question_3 = np.array([12, 31, 50, 0, 22, 28, 19, 105, 44, 12, 77])\n",
    "\n",
    "for i in range(len(question_3)):\n",
    "    while(question_3[i] % 5 != 0):\n",
    "        question_3[i] += 1.\n",
    "        \n",
    "for element in question_3:\n",
    "    print(element)"
   ]
  },
  {
   "cell_type": "code",
   "execution_count": 37,
   "metadata": {},
   "outputs": [
    {
     "name": "stdout",
     "output_type": "stream",
     "text": [
      "~~~~~~~~~~~~~~~~~~~~~~~~~~~~~~~~~~~~~~~~~~~~~~~~~~~~~~~~~~~~~~~~~~~~~\n",
      "Running tests\n",
      "\n",
      "---------------------------------------------------------------------\n",
      "Intro Test 3 > Suite 1 > Case 1\n",
      "\n",
      ">>> question_3 == np.array([15, 35, 50, 0, 25, 30, 20, 105, 45, 15, 80])\n",
      "array([ True,  True,  True,  True,  True,  True,  True,  True,  True,\n",
      "        True,  True])\n",
      "\n",
      "# Error: expected\n",
      "#     True\n",
      "# but got\n",
      "#     array([ True,  True,  True,  True,  True,  True,  True,  True,  True,\n",
      "#             True,  True])\n",
      "\n",
      "Run only this test case with \"python3 ok -q q03 --suite 1 --case 1\"\n",
      "---------------------------------------------------------------------\n",
      "Test summary\n",
      "    Passed: 0\n",
      "    Failed: 1\n",
      "[k..........] 0.0% passed\n",
      "\n"
     ]
    },
    {
     "data": {
      "text/plain": [
       "{'failed': 1, 'locked': 0, 'passed': 0}"
      ]
     },
     "execution_count": 37,
     "metadata": {},
     "output_type": "execute_result"
    }
   ],
   "source": [
    "ok.grade('q03')"
   ]
  },
  {
   "cell_type": "markdown",
   "metadata": {},
   "source": [
    "#### F. Functions!\n",
    "Functions are useful when you want to repeat a series of steps on multiple different objects, but don't want to type out the steps over and over again. Many functions are built into Python already; for example, you've already made use of `len()` to retrieve the number of elements in a list. You can also write your own functions, and at this point you already have the skills to do so.\n",
    "\n",
    "\n",
    "Functions generally take a set of __parameters__ (also called inputs), which define the objects they will use when they are run. For example, the `len()` function takes a list or array as its parameter, and returns the length of that list.\n",
    "\n",
    "\n",
    "The following cell gives an example of an extremely simple function, called `add_two`, which takes as its parameter an integer and returns that integer with, you guessed it, 2 added to it."
   ]
  },
  {
   "cell_type": "code",
   "execution_count": null,
   "metadata": {
    "collapsed": true
   },
   "outputs": [],
   "source": [
    "# An adder function that adds 2 to the given n.\n",
    "def add_two(n):\n",
    "    return n + 2"
   ]
  },
  {
   "cell_type": "code",
   "execution_count": null,
   "metadata": {
    "collapsed": true
   },
   "outputs": [],
   "source": [
    "add_two(5)"
   ]
  },
  {
   "cell_type": "markdown",
   "metadata": {},
   "source": [
    "Easy enough, right? Let's look at a function that takes two parameters, compares them somehow, and then returns a boolean value (`True` or `False`) depending on the comparison. The `is_multiple` function below takes as parameters an integer `m` and an integer `n`, checks if `m` is a multiple of `n`, and returns `True` if it is. Otherwise, it returns `False`. \n",
    "\n",
    "`if` statements, just like `while` loops, are dependent on boolean expressions. If the conditional is `True`, then the following indented code block will be executed. If the conditional evaluates to `False`, then the code block will be skipped over. Read more about `if` statements [here](https://www.tutorialspoint.com/python/python_if_else.htm)."
   ]
  },
  {
   "cell_type": "code",
   "execution_count": null,
   "metadata": {
    "collapsed": true
   },
   "outputs": [],
   "source": [
    "def is_multiple(m, n):\n",
    "    if (m % n == 0):\n",
    "        return True\n",
    "    else:\n",
    "        return False"
   ]
  },
  {
   "cell_type": "code",
   "execution_count": null,
   "metadata": {
    "collapsed": true
   },
   "outputs": [],
   "source": [
    "is_multiple(12, 4)"
   ]
  },
  {
   "cell_type": "code",
   "execution_count": null,
   "metadata": {
    "collapsed": true
   },
   "outputs": [],
   "source": [
    "is_multiple(12, 7)"
   ]
  },
  {
   "cell_type": "markdown",
   "metadata": {},
   "source": [
    "**Sidenote:** Another way to write `is_multiple` is below, think about why it works.\n",
    "\n",
    "    def is_multiple(m, n):\n",
    "        return m % n == 0\n",
    "        \n",
    "Since functions are so easily replicable, we can include them in loops if we want. For instance, our `is_multiple` function can be used to check if a number is prime! See for yourself by testing some possible prime numbers in the cell below."
   ]
  },
  {
   "cell_type": "code",
   "execution_count": null,
   "metadata": {
    "collapsed": true
   },
   "outputs": [],
   "source": [
    "# Change possible_prime to any integer to test its primality\n",
    "# NOTE: If you happen to stumble across a large (> 8 digits) prime number, the cell could take a very, very long time\n",
    "# to run and will likely crash your kernel. Just click kernel>interrupt if it looks like it's caught.\n",
    "\n",
    "possible_prime = 9999991\n",
    "\n",
    "for i in range(2, possible_prime):\n",
    "    if (is_multiple(possible_prime, i)):\n",
    "        print(possible_prime, 'is not prime')   \n",
    "        break\n",
    "    if (i >= possible_prime/2):\n",
    "        print(possible_prime, 'is prime')\n",
    "        break"
   ]
  },
  {
   "cell_type": "markdown",
   "metadata": {},
   "source": [
    "#### Question 4: Writing functions\n",
    "In the following cell, complete a function that will take as its parameters a list and two integers x and y, iterate through the list, and replace any number in the list that is a multiple of x with y.\n",
    "> Hint: use the is_multiple() function to streamline your code."
   ]
  },
  {
   "cell_type": "code",
   "execution_count": null,
   "metadata": {
    "collapsed": true
   },
   "outputs": [],
   "source": [
    "def replace_with_y(lst, x, y):\n",
    "    for i in range(...):\n",
    "        if(...):\n",
    "            ...\n",
    "    return lst"
   ]
  },
  {
   "cell_type": "code",
   "execution_count": null,
   "metadata": {
    "collapsed": true
   },
   "outputs": [],
   "source": [
    "ok.grade('q04')"
   ]
  },
  {
   "cell_type": "markdown",
   "metadata": {},
   "source": [
    "### Part 2: Pandas Dataframes <a id='pandas'></a>\n",
    "\n",
    "We will be using Pandas dataframes for much of this class to organize and sort through economic data. [Pandas](http://pandas.pydata.org/pandas-docs/stable/) is one of the most widely used Python libraries in data science. It is commonly used for data cleaning, and with good reason: it’s very powerful and flexible, among many other things. Like we did with `numpy`, we will have to import `pandas`."
   ]
  },
  {
   "cell_type": "code",
   "execution_count": null,
   "metadata": {
    "collapsed": true
   },
   "outputs": [],
   "source": [
    "import pandas as pd"
   ]
  },
  {
   "cell_type": "markdown",
   "metadata": {},
   "source": [
    "#### Creating dataframes\n",
    "\n",
    "The rows and columns of a pandas dataframe are essentially a collection of lists stacked on top/next to each other. For example, if I wanted to store the top 10 movies and their ratings in a datatable, I could create 10 lists that each contain a rating and a corresponding title, and these lists would be the rows of the table:"
   ]
  },
  {
   "cell_type": "code",
   "execution_count": null,
   "metadata": {
    "collapsed": true
   },
   "outputs": [],
   "source": [
    "top_10_movies = pd.DataFrame(data=np.array(\n",
    "            [[9.2, 'The Shawshank Redemption (1994)'],\n",
    "            [9.2, 'The Godfather (1972)'],\n",
    "            [9., 'The Godfather: Part II (1974)'],\n",
    "            [8.9, 'Pulp Fiction (1994)'],\n",
    "            [8.9, \"Schindler's List (1993)\"],\n",
    "            [8.9, 'The Lord of the Rings: The Return of the King (2003)'],\n",
    "            [8.9, '12 Angry Men (1957)'],\n",
    "            [8.9, 'The Dark Knight (2008)'],\n",
    "            [8.9, 'Il buono, il brutto, il cattivo (1966)'],\n",
    "            [8.8, 'The Lord of the Rings: The Fellowship of the Ring (2001)']]), columns=[\"Rating\", \"Movie\"])\n",
    "top_10_movies"
   ]
  },
  {
   "cell_type": "markdown",
   "metadata": {},
   "source": [
    "Alternatively, we can store data in a dictionary instead of in lists. A dictionary keeps a mapping of keys to a set of values, and each key is unique. Using our top 10 movies example, we could create a dictionary that contains ratings a key, and movie titles as another key."
   ]
  },
  {
   "cell_type": "code",
   "execution_count": null,
   "metadata": {
    "collapsed": true
   },
   "outputs": [],
   "source": [
    "top_10_movies_dict = {\"Rating\" : [9.2, 9.2, 9., 8.9, 8.9, 8.9, 8.9, 8.9, 8.9, 8.8], \n",
    "                      \"Movie\" : ['The Shawshank Redemption (1994)',\n",
    "                                'The Godfather (1972)',\n",
    "                                'The Godfather: Part II (1974)',\n",
    "                                'Pulp Fiction (1994)',\n",
    "                                \"Schindler's List (1993)\",\n",
    "                                'The Lord of the Rings: The Return of the King (2003)',\n",
    "                                '12 Angry Men (1957)',\n",
    "                                'The Dark Knight (2008)',\n",
    "                                'Il buono, il brutto, il cattivo (1966)',\n",
    "                                'The Lord of the Rings: The Fellowship of the Ring (2001)']}"
   ]
  },
  {
   "cell_type": "markdown",
   "metadata": {},
   "source": [
    "Now, we can use this dictionary to create a table with columns `Rating` and `Movie`"
   ]
  },
  {
   "cell_type": "code",
   "execution_count": null,
   "metadata": {
    "collapsed": true
   },
   "outputs": [],
   "source": [
    "top_10_movies_2 = pd.DataFrame(data=top_10_movies_dict, columns=[\"Rating\", \"Movie\"])\n",
    "top_10_movies_2"
   ]
  },
  {
   "cell_type": "markdown",
   "metadata": {},
   "source": [
    "Notice how both ways return the same table! However, the list method created the table by essentially taking the lists and making up the rows of the table, while the dictionary method took the keys from the dictionary to make up the columns of the table. In this way, dataframes can be viewed as a collection of basic data structures, either through collecting rows or columns. "
   ]
  },
  {
   "cell_type": "markdown",
   "metadata": {},
   "source": [
    "#### Reading in Dataframes\n",
    "\n",
    "Luckily for you, most datatables in this course will be premade and given to you in a form that is easily read into a pandas method, which creates the table for you. A common file type that is used for economic data is a Comma-Separated Values (.csv) file, which stores tabular data. It is not necessary for you to know exactly how .csv files store data, but you should know how to read a file in as a pandas dataframe. You can use the \"read_csv\" method from pandas, which takes in one parameter which is the path to the csv file you are reading in."
   ]
  },
  {
   "cell_type": "markdown",
   "metadata": {},
   "source": [
    "We will read in a .csv file that contains quarterly real GDI, real GDP, and nominal GDP data in the U.S. from 1947 to the present."
   ]
  },
  {
   "cell_type": "code",
   "execution_count": 38,
   "metadata": {
    "collapsed": true
   },
   "outputs": [],
   "source": [
    "import pandas as pd\n",
    "\n",
    "# Run this cell to read in the table\n",
    "accounts = pd.read_csv(\"data/Quarterly_Accounts.csv\")"
   ]
  },
  {
   "cell_type": "markdown",
   "metadata": {},
   "source": [
    "The `pd.read_csv` function expects a path to a .csv file as its input, and will return a data table created from the data contained in the csv.\n",
    "We have provided `Quarterly_Accouunts.csv` in the data directory, which is all contained in the current working directory (aka the folder this assignment is contained in). For this reason, we must specify to the `read_csv` function that it should look for the csv in the data directory, and the `/` indicates that `Quarterly_Accounts.csv` can be found there. \n",
    "\n",
    "Here is a sample of some of the rows in this datatable:"
   ]
  },
  {
   "cell_type": "code",
   "execution_count": 39,
   "metadata": {},
   "outputs": [
    {
     "data": {
      "text/html": [
       "<div>\n",
       "<style scoped>\n",
       "    .dataframe tbody tr th:only-of-type {\n",
       "        vertical-align: middle;\n",
       "    }\n",
       "\n",
       "    .dataframe tbody tr th {\n",
       "        vertical-align: top;\n",
       "    }\n",
       "\n",
       "    .dataframe thead th {\n",
       "        text-align: right;\n",
       "    }\n",
       "</style>\n",
       "<table border=\"1\" class=\"dataframe\">\n",
       "  <thead>\n",
       "    <tr style=\"text-align: right;\">\n",
       "      <th></th>\n",
       "      <th>Year</th>\n",
       "      <th>Quarter</th>\n",
       "      <th>Real GDI</th>\n",
       "      <th>Real GDP</th>\n",
       "      <th>Nominal GDP</th>\n",
       "    </tr>\n",
       "  </thead>\n",
       "  <tbody>\n",
       "    <tr>\n",
       "      <th>0</th>\n",
       "      <td>1947</td>\n",
       "      <td>Q1</td>\n",
       "      <td>1912.5</td>\n",
       "      <td>1934.5</td>\n",
       "      <td>243.1</td>\n",
       "    </tr>\n",
       "    <tr>\n",
       "      <th>1</th>\n",
       "      <td>1947</td>\n",
       "      <td>Q2</td>\n",
       "      <td>1910.9</td>\n",
       "      <td>1932.3</td>\n",
       "      <td>246.3</td>\n",
       "    </tr>\n",
       "    <tr>\n",
       "      <th>2</th>\n",
       "      <td>1947</td>\n",
       "      <td>Q3</td>\n",
       "      <td>1914.0</td>\n",
       "      <td>1930.3</td>\n",
       "      <td>250.1</td>\n",
       "    </tr>\n",
       "    <tr>\n",
       "      <th>3</th>\n",
       "      <td>1947</td>\n",
       "      <td>Q4</td>\n",
       "      <td>1932.0</td>\n",
       "      <td>1960.7</td>\n",
       "      <td>260.3</td>\n",
       "    </tr>\n",
       "    <tr>\n",
       "      <th>4</th>\n",
       "      <td>1948</td>\n",
       "      <td>Q1</td>\n",
       "      <td>1984.4</td>\n",
       "      <td>1989.5</td>\n",
       "      <td>266.2</td>\n",
       "    </tr>\n",
       "  </tbody>\n",
       "</table>\n",
       "</div>"
      ],
      "text/plain": [
       "   Year Quarter  Real GDI  Real GDP  Nominal GDP\n",
       "0  1947      Q1    1912.5    1934.5        243.1\n",
       "1  1947      Q2    1910.9    1932.3        246.3\n",
       "2  1947      Q3    1914.0    1930.3        250.1\n",
       "3  1947      Q4    1932.0    1960.7        260.3\n",
       "4  1948      Q1    1984.4    1989.5        266.2"
      ]
     },
     "execution_count": 39,
     "metadata": {},
     "output_type": "execute_result"
    }
   ],
   "source": [
    "accounts.head()"
   ]
  },
  {
   "cell_type": "markdown",
   "metadata": {},
   "source": [
    "#### Indexing Dataframes\n",
    "\n",
    "Oftentimes, tables will contain a lot of extraneous data that muddles our data tables, making it more difficult to quickly and accurately obtain the data we need. To correct for this, we can select out columns or rows that we need by indexing our dataframes. "
   ]
  },
  {
   "cell_type": "markdown",
   "metadata": {},
   "source": [
    "The easiest way to index into a table is with square bracket notation. Suppose you wanted to obtain all of the Real GDP data from the data. Using a single pair of square brackets, you could index the table for `\"Real GDP\"`"
   ]
  },
  {
   "cell_type": "code",
   "execution_count": 40,
   "metadata": {},
   "outputs": [
    {
     "data": {
      "text/plain": [
       "0       1934.5\n",
       "1       1932.3\n",
       "2       1930.3\n",
       "3       1960.7\n",
       "4       1989.5\n",
       "5       2021.9\n",
       "6       2033.2\n",
       "7       2035.3\n",
       "8       2007.5\n",
       "9       2000.8\n",
       "10      2022.8\n",
       "11      2004.7\n",
       "12      2084.6\n",
       "13      2147.6\n",
       "14      2230.4\n",
       "15      2273.4\n",
       "16      2304.5\n",
       "17      2344.5\n",
       "18      2392.8\n",
       "19      2398.1\n",
       "20      2423.5\n",
       "21      2428.5\n",
       "22      2446.1\n",
       "23      2526.4\n",
       "24      2573.4\n",
       "25      2593.5\n",
       "26      2578.9\n",
       "27      2539.8\n",
       "28      2528.0\n",
       "29      2530.7\n",
       "        ...   \n",
       "251    14541.9\n",
       "252    14604.8\n",
       "253    14745.9\n",
       "254    14845.5\n",
       "255    14939.0\n",
       "256    14881.3\n",
       "257    14989.6\n",
       "258    15021.1\n",
       "259    15190.3\n",
       "260    15291.0\n",
       "261    15362.4\n",
       "262    15380.8\n",
       "263    15384.3\n",
       "264    15491.9\n",
       "265    15521.6\n",
       "266    15641.3\n",
       "267    15793.9\n",
       "268    15757.6\n",
       "269    15935.8\n",
       "270    16139.5\n",
       "271    16220.2\n",
       "272    16350.0\n",
       "273    16460.9\n",
       "274    16527.6\n",
       "275    16547.6\n",
       "276    16571.6\n",
       "277    16663.5\n",
       "278    16778.1\n",
       "279    16851.4\n",
       "280    16903.2\n",
       "Name: Real GDP, Length: 281, dtype: float64"
      ]
     },
     "execution_count": 40,
     "metadata": {},
     "output_type": "execute_result"
    }
   ],
   "source": [
    "# Run this cell and see what it outputs\n",
    "accounts[\"Real GDP\"]"
   ]
  },
  {
   "cell_type": "markdown",
   "metadata": {},
   "source": [
    "Notice how the above cell returns an array of all the real GDP values in their original order.\n",
    "Now, if you wanted to get the first real GDP value from this array, you could index it with another pair of square brackets:"
   ]
  },
  {
   "cell_type": "code",
   "execution_count": 41,
   "metadata": {},
   "outputs": [
    {
     "data": {
      "text/plain": [
       "1934.5"
      ]
     },
     "execution_count": 41,
     "metadata": {},
     "output_type": "execute_result"
    }
   ],
   "source": [
    "accounts[\"Real GDP\"][0]"
   ]
  },
  {
   "cell_type": "markdown",
   "metadata": {},
   "source": [
    "Pandas columns have many of the same properties as numpy arrays. Keep in mind that pandas dataframes, as well as many other data structures, are zero-indexed, meaning indexes start at 0 and end at the number of elements minus one. "
   ]
  },
  {
   "cell_type": "markdown",
   "metadata": {},
   "source": [
    "If you wanted to create a new datatable with select columns from the original table, you can index with double brackets."
   ]
  },
  {
   "cell_type": "code",
   "execution_count": 42,
   "metadata": {},
   "outputs": [
    {
     "data": {
      "text/html": [
       "<div>\n",
       "<style scoped>\n",
       "    .dataframe tbody tr th:only-of-type {\n",
       "        vertical-align: middle;\n",
       "    }\n",
       "\n",
       "    .dataframe tbody tr th {\n",
       "        vertical-align: top;\n",
       "    }\n",
       "\n",
       "    .dataframe thead th {\n",
       "        text-align: right;\n",
       "    }\n",
       "</style>\n",
       "<table border=\"1\" class=\"dataframe\">\n",
       "  <thead>\n",
       "    <tr style=\"text-align: right;\">\n",
       "      <th></th>\n",
       "      <th>Year</th>\n",
       "      <th>Quarter</th>\n",
       "      <th>Real GDP</th>\n",
       "      <th>Real GDI</th>\n",
       "    </tr>\n",
       "  </thead>\n",
       "  <tbody>\n",
       "    <tr>\n",
       "      <th>0</th>\n",
       "      <td>1947</td>\n",
       "      <td>Q1</td>\n",
       "      <td>1934.5</td>\n",
       "      <td>1912.5</td>\n",
       "    </tr>\n",
       "    <tr>\n",
       "      <th>1</th>\n",
       "      <td>1947</td>\n",
       "      <td>Q2</td>\n",
       "      <td>1932.3</td>\n",
       "      <td>1910.9</td>\n",
       "    </tr>\n",
       "    <tr>\n",
       "      <th>2</th>\n",
       "      <td>1947</td>\n",
       "      <td>Q3</td>\n",
       "      <td>1930.3</td>\n",
       "      <td>1914.0</td>\n",
       "    </tr>\n",
       "    <tr>\n",
       "      <th>3</th>\n",
       "      <td>1947</td>\n",
       "      <td>Q4</td>\n",
       "      <td>1960.7</td>\n",
       "      <td>1932.0</td>\n",
       "    </tr>\n",
       "    <tr>\n",
       "      <th>4</th>\n",
       "      <td>1948</td>\n",
       "      <td>Q1</td>\n",
       "      <td>1989.5</td>\n",
       "      <td>1984.4</td>\n",
       "    </tr>\n",
       "  </tbody>\n",
       "</table>\n",
       "</div>"
      ],
      "text/plain": [
       "   Year Quarter  Real GDP  Real GDI\n",
       "0  1947      Q1    1934.5    1912.5\n",
       "1  1947      Q2    1932.3    1910.9\n",
       "2  1947      Q3    1930.3    1914.0\n",
       "3  1947      Q4    1960.7    1932.0\n",
       "4  1948      Q1    1989.5    1984.4"
      ]
     },
     "execution_count": 42,
     "metadata": {},
     "output_type": "execute_result"
    }
   ],
   "source": [
    "## Note: .head() returns the first five rows of the table\n",
    "accounts[[\"Year\", \"Quarter\", \"Real GDP\", \"Real GDI\"]].head()"
   ]
  },
  {
   "cell_type": "markdown",
   "metadata": {},
   "source": [
    "You can also use column indices instead of names."
   ]
  },
  {
   "cell_type": "code",
   "execution_count": 61,
   "metadata": {},
   "outputs": [
    {
     "ename": "KeyError",
     "evalue": "'[0 1 2 3] not in index'",
     "output_type": "error",
     "traceback": [
      "\u001b[0;31m---------------------------------------------------------------------------\u001b[0m",
      "\u001b[0;31mKeyError\u001b[0m                                  Traceback (most recent call last)",
      "\u001b[0;32m<ipython-input-61-6749044ba7ce>\u001b[0m in \u001b[0;36m<module>\u001b[0;34m()\u001b[0m\n\u001b[0;32m----> 1\u001b[0;31m \u001b[0maccounts\u001b[0m\u001b[0;34m[\u001b[0m\u001b[0;34m[\u001b[0m\u001b[0;36m0\u001b[0m\u001b[0;34m,\u001b[0m \u001b[0;36m1\u001b[0m\u001b[0;34m,\u001b[0m \u001b[0;36m2\u001b[0m\u001b[0;34m,\u001b[0m \u001b[0;36m3\u001b[0m\u001b[0;34m]\u001b[0m\u001b[0;34m]\u001b[0m\u001b[0;34m\u001b[0m\u001b[0m\n\u001b[0m",
      "\u001b[0;32m/usr/local/lib/python3.6/site-packages/pandas/core/frame.py\u001b[0m in \u001b[0;36m__getitem__\u001b[0;34m(self, key)\u001b[0m\n\u001b[1;32m   2680\u001b[0m         \u001b[0;32mif\u001b[0m \u001b[0misinstance\u001b[0m\u001b[0;34m(\u001b[0m\u001b[0mkey\u001b[0m\u001b[0;34m,\u001b[0m \u001b[0;34m(\u001b[0m\u001b[0mSeries\u001b[0m\u001b[0;34m,\u001b[0m \u001b[0mnp\u001b[0m\u001b[0;34m.\u001b[0m\u001b[0mndarray\u001b[0m\u001b[0;34m,\u001b[0m \u001b[0mIndex\u001b[0m\u001b[0;34m,\u001b[0m \u001b[0mlist\u001b[0m\u001b[0;34m)\u001b[0m\u001b[0;34m)\u001b[0m\u001b[0;34m:\u001b[0m\u001b[0;34m\u001b[0m\u001b[0m\n\u001b[1;32m   2681\u001b[0m             \u001b[0;31m# either boolean or fancy integer index\u001b[0m\u001b[0;34m\u001b[0m\u001b[0;34m\u001b[0m\u001b[0m\n\u001b[0;32m-> 2682\u001b[0;31m             \u001b[0;32mreturn\u001b[0m \u001b[0mself\u001b[0m\u001b[0;34m.\u001b[0m\u001b[0m_getitem_array\u001b[0m\u001b[0;34m(\u001b[0m\u001b[0mkey\u001b[0m\u001b[0;34m)\u001b[0m\u001b[0;34m\u001b[0m\u001b[0m\n\u001b[0m\u001b[1;32m   2683\u001b[0m         \u001b[0;32melif\u001b[0m \u001b[0misinstance\u001b[0m\u001b[0;34m(\u001b[0m\u001b[0mkey\u001b[0m\u001b[0;34m,\u001b[0m \u001b[0mDataFrame\u001b[0m\u001b[0;34m)\u001b[0m\u001b[0;34m:\u001b[0m\u001b[0;34m\u001b[0m\u001b[0m\n\u001b[1;32m   2684\u001b[0m             \u001b[0;32mreturn\u001b[0m \u001b[0mself\u001b[0m\u001b[0;34m.\u001b[0m\u001b[0m_getitem_frame\u001b[0m\u001b[0;34m(\u001b[0m\u001b[0mkey\u001b[0m\u001b[0;34m)\u001b[0m\u001b[0;34m\u001b[0m\u001b[0m\n",
      "\u001b[0;32m/usr/local/lib/python3.6/site-packages/pandas/core/frame.py\u001b[0m in \u001b[0;36m_getitem_array\u001b[0;34m(self, key)\u001b[0m\n\u001b[1;32m   2724\u001b[0m             \u001b[0;32mreturn\u001b[0m \u001b[0mself\u001b[0m\u001b[0;34m.\u001b[0m\u001b[0m_take\u001b[0m\u001b[0;34m(\u001b[0m\u001b[0mindexer\u001b[0m\u001b[0;34m,\u001b[0m \u001b[0maxis\u001b[0m\u001b[0;34m=\u001b[0m\u001b[0;36m0\u001b[0m\u001b[0;34m)\u001b[0m\u001b[0;34m\u001b[0m\u001b[0m\n\u001b[1;32m   2725\u001b[0m         \u001b[0;32melse\u001b[0m\u001b[0;34m:\u001b[0m\u001b[0;34m\u001b[0m\u001b[0m\n\u001b[0;32m-> 2726\u001b[0;31m             \u001b[0mindexer\u001b[0m \u001b[0;34m=\u001b[0m \u001b[0mself\u001b[0m\u001b[0;34m.\u001b[0m\u001b[0mloc\u001b[0m\u001b[0;34m.\u001b[0m\u001b[0m_convert_to_indexer\u001b[0m\u001b[0;34m(\u001b[0m\u001b[0mkey\u001b[0m\u001b[0;34m,\u001b[0m \u001b[0maxis\u001b[0m\u001b[0;34m=\u001b[0m\u001b[0;36m1\u001b[0m\u001b[0;34m)\u001b[0m\u001b[0;34m\u001b[0m\u001b[0m\n\u001b[0m\u001b[1;32m   2727\u001b[0m             \u001b[0;32mreturn\u001b[0m \u001b[0mself\u001b[0m\u001b[0;34m.\u001b[0m\u001b[0m_take\u001b[0m\u001b[0;34m(\u001b[0m\u001b[0mindexer\u001b[0m\u001b[0;34m,\u001b[0m \u001b[0maxis\u001b[0m\u001b[0;34m=\u001b[0m\u001b[0;36m1\u001b[0m\u001b[0;34m)\u001b[0m\u001b[0;34m\u001b[0m\u001b[0m\n\u001b[1;32m   2728\u001b[0m \u001b[0;34m\u001b[0m\u001b[0m\n",
      "\u001b[0;32m/usr/local/lib/python3.6/site-packages/pandas/core/indexing.py\u001b[0m in \u001b[0;36m_convert_to_indexer\u001b[0;34m(self, obj, axis, is_setter)\u001b[0m\n\u001b[1;32m   1325\u001b[0m                 \u001b[0;32mif\u001b[0m \u001b[0mmask\u001b[0m\u001b[0;34m.\u001b[0m\u001b[0many\u001b[0m\u001b[0;34m(\u001b[0m\u001b[0;34m)\u001b[0m\u001b[0;34m:\u001b[0m\u001b[0;34m\u001b[0m\u001b[0m\n\u001b[1;32m   1326\u001b[0m                     raise KeyError('{mask} not in index'\n\u001b[0;32m-> 1327\u001b[0;31m                                    .format(mask=objarr[mask]))\n\u001b[0m\u001b[1;32m   1328\u001b[0m \u001b[0;34m\u001b[0m\u001b[0m\n\u001b[1;32m   1329\u001b[0m                 \u001b[0;32mreturn\u001b[0m \u001b[0mcom\u001b[0m\u001b[0;34m.\u001b[0m\u001b[0m_values_from_object\u001b[0m\u001b[0;34m(\u001b[0m\u001b[0mindexer\u001b[0m\u001b[0;34m)\u001b[0m\u001b[0;34m\u001b[0m\u001b[0m\n",
      "\u001b[0;31mKeyError\u001b[0m: '[0 1 2 3] not in index'"
     ]
    }
   ],
   "source": [
    "accounts[[0, 1, 2, 3]]"
   ]
  },
  {
   "cell_type": "markdown",
   "metadata": {},
   "source": [
    "Alternatively, you can also get rid of columns you dont need using `.drop()`"
   ]
  },
  {
   "cell_type": "code",
   "execution_count": 62,
   "metadata": {},
   "outputs": [
    {
     "data": {
      "text/html": [
       "<div>\n",
       "<style scoped>\n",
       "    .dataframe tbody tr th:only-of-type {\n",
       "        vertical-align: middle;\n",
       "    }\n",
       "\n",
       "    .dataframe tbody tr th {\n",
       "        vertical-align: top;\n",
       "    }\n",
       "\n",
       "    .dataframe thead th {\n",
       "        text-align: right;\n",
       "    }\n",
       "</style>\n",
       "<table border=\"1\" class=\"dataframe\">\n",
       "  <thead>\n",
       "    <tr style=\"text-align: right;\">\n",
       "      <th></th>\n",
       "      <th>Year</th>\n",
       "      <th>Quarter</th>\n",
       "      <th>Real GDI</th>\n",
       "      <th>Real GDP</th>\n",
       "    </tr>\n",
       "  </thead>\n",
       "  <tbody>\n",
       "    <tr>\n",
       "      <th>0</th>\n",
       "      <td>1947</td>\n",
       "      <td>Q1</td>\n",
       "      <td>1912.5</td>\n",
       "      <td>1934.5</td>\n",
       "    </tr>\n",
       "    <tr>\n",
       "      <th>1</th>\n",
       "      <td>1947</td>\n",
       "      <td>Q2</td>\n",
       "      <td>1910.9</td>\n",
       "      <td>1932.3</td>\n",
       "    </tr>\n",
       "    <tr>\n",
       "      <th>2</th>\n",
       "      <td>1947</td>\n",
       "      <td>Q3</td>\n",
       "      <td>1914.0</td>\n",
       "      <td>1930.3</td>\n",
       "    </tr>\n",
       "    <tr>\n",
       "      <th>3</th>\n",
       "      <td>1947</td>\n",
       "      <td>Q4</td>\n",
       "      <td>1932.0</td>\n",
       "      <td>1960.7</td>\n",
       "    </tr>\n",
       "    <tr>\n",
       "      <th>4</th>\n",
       "      <td>1948</td>\n",
       "      <td>Q1</td>\n",
       "      <td>1984.4</td>\n",
       "      <td>1989.5</td>\n",
       "    </tr>\n",
       "  </tbody>\n",
       "</table>\n",
       "</div>"
      ],
      "text/plain": [
       "   Year Quarter  Real GDI  Real GDP\n",
       "0  1947      Q1    1912.5    1934.5\n",
       "1  1947      Q2    1910.9    1932.3\n",
       "2  1947      Q3    1914.0    1930.3\n",
       "3  1947      Q4    1932.0    1960.7\n",
       "4  1948      Q1    1984.4    1989.5"
      ]
     },
     "execution_count": 62,
     "metadata": {},
     "output_type": "execute_result"
    }
   ],
   "source": [
    "accounts.drop(\"Nominal GDP\", axis=1).head()"
   ]
  },
  {
   "cell_type": "markdown",
   "metadata": {},
   "source": [
    "Finally, you can use square bracket notation to index rows by their indices with a single set of brackets. You must specify a range of values for which you want to index. For example, if I wanted the 20th to 30th rows of `accounts`:"
   ]
  },
  {
   "cell_type": "code",
   "execution_count": 63,
   "metadata": {},
   "outputs": [
    {
     "data": {
      "text/html": [
       "<div>\n",
       "<style scoped>\n",
       "    .dataframe tbody tr th:only-of-type {\n",
       "        vertical-align: middle;\n",
       "    }\n",
       "\n",
       "    .dataframe tbody tr th {\n",
       "        vertical-align: top;\n",
       "    }\n",
       "\n",
       "    .dataframe thead th {\n",
       "        text-align: right;\n",
       "    }\n",
       "</style>\n",
       "<table border=\"1\" class=\"dataframe\">\n",
       "  <thead>\n",
       "    <tr style=\"text-align: right;\">\n",
       "      <th></th>\n",
       "      <th>Year</th>\n",
       "      <th>Quarter</th>\n",
       "      <th>Real GDI</th>\n",
       "      <th>Real GDP</th>\n",
       "      <th>Nominal GDP</th>\n",
       "    </tr>\n",
       "  </thead>\n",
       "  <tbody>\n",
       "    <tr>\n",
       "      <th>20</th>\n",
       "      <td>1952</td>\n",
       "      <td>Q1</td>\n",
       "      <td>2398.3</td>\n",
       "      <td>2423.5</td>\n",
       "      <td>360.2</td>\n",
       "    </tr>\n",
       "    <tr>\n",
       "      <th>21</th>\n",
       "      <td>1952</td>\n",
       "      <td>Q2</td>\n",
       "      <td>2412.6</td>\n",
       "      <td>2428.5</td>\n",
       "      <td>361.4</td>\n",
       "    </tr>\n",
       "    <tr>\n",
       "      <th>22</th>\n",
       "      <td>1952</td>\n",
       "      <td>Q3</td>\n",
       "      <td>2435.0</td>\n",
       "      <td>2446.1</td>\n",
       "      <td>368.1</td>\n",
       "    </tr>\n",
       "    <tr>\n",
       "      <th>23</th>\n",
       "      <td>1952</td>\n",
       "      <td>Q4</td>\n",
       "      <td>2509.5</td>\n",
       "      <td>2526.4</td>\n",
       "      <td>381.2</td>\n",
       "    </tr>\n",
       "    <tr>\n",
       "      <th>24</th>\n",
       "      <td>1953</td>\n",
       "      <td>Q1</td>\n",
       "      <td>2554.3</td>\n",
       "      <td>2573.4</td>\n",
       "      <td>388.5</td>\n",
       "    </tr>\n",
       "    <tr>\n",
       "      <th>25</th>\n",
       "      <td>1953</td>\n",
       "      <td>Q2</td>\n",
       "      <td>2572.2</td>\n",
       "      <td>2593.5</td>\n",
       "      <td>392.3</td>\n",
       "    </tr>\n",
       "    <tr>\n",
       "      <th>26</th>\n",
       "      <td>1953</td>\n",
       "      <td>Q3</td>\n",
       "      <td>2555.7</td>\n",
       "      <td>2578.9</td>\n",
       "      <td>391.7</td>\n",
       "    </tr>\n",
       "    <tr>\n",
       "      <th>27</th>\n",
       "      <td>1953</td>\n",
       "      <td>Q4</td>\n",
       "      <td>2504.1</td>\n",
       "      <td>2539.8</td>\n",
       "      <td>386.5</td>\n",
       "    </tr>\n",
       "    <tr>\n",
       "      <th>28</th>\n",
       "      <td>1954</td>\n",
       "      <td>Q1</td>\n",
       "      <td>2510.1</td>\n",
       "      <td>2528.0</td>\n",
       "      <td>385.9</td>\n",
       "    </tr>\n",
       "    <tr>\n",
       "      <th>29</th>\n",
       "      <td>1954</td>\n",
       "      <td>Q2</td>\n",
       "      <td>2514.5</td>\n",
       "      <td>2530.7</td>\n",
       "      <td>386.7</td>\n",
       "    </tr>\n",
       "    <tr>\n",
       "      <th>30</th>\n",
       "      <td>1954</td>\n",
       "      <td>Q3</td>\n",
       "      <td>2537.1</td>\n",
       "      <td>2559.4</td>\n",
       "      <td>391.6</td>\n",
       "    </tr>\n",
       "  </tbody>\n",
       "</table>\n",
       "</div>"
      ],
      "text/plain": [
       "    Year Quarter  Real GDI  Real GDP  Nominal GDP\n",
       "20  1952      Q1    2398.3    2423.5        360.2\n",
       "21  1952      Q2    2412.6    2428.5        361.4\n",
       "22  1952      Q3    2435.0    2446.1        368.1\n",
       "23  1952      Q4    2509.5    2526.4        381.2\n",
       "24  1953      Q1    2554.3    2573.4        388.5\n",
       "25  1953      Q2    2572.2    2593.5        392.3\n",
       "26  1953      Q3    2555.7    2578.9        391.7\n",
       "27  1953      Q4    2504.1    2539.8        386.5\n",
       "28  1954      Q1    2510.1    2528.0        385.9\n",
       "29  1954      Q2    2514.5    2530.7        386.7\n",
       "30  1954      Q3    2537.1    2559.4        391.6"
      ]
     },
     "execution_count": 63,
     "metadata": {},
     "output_type": "execute_result"
    }
   ],
   "source": [
    "accounts[20:31]"
   ]
  },
  {
   "cell_type": "markdown",
   "metadata": {},
   "source": [
    "#### Filtering Data\n",
    "\n",
    "As you can tell from the previous, indexing rows based on indices is only useful when you know the specific set of rows that you need, and you can only really get a range of entries. Working with data often involves huge datasets, making it inefficient and sometimes impossible to know exactly what indices to be looking at. On top of that, most data analysis concerns itself with looking for patterns or specific conditions in the data, which is impossible to look for with simple index based sorting.   "
   ]
  },
  {
   "cell_type": "markdown",
   "metadata": {},
   "source": [
    "Thankfully, you can also use square bracket notation to filter out data based on a condition. Suppose we only wanted real GDP and nominal GDP data from the 21st century:"
   ]
  },
  {
   "cell_type": "code",
   "execution_count": 64,
   "metadata": {},
   "outputs": [
    {
     "data": {
      "text/html": [
       "<div>\n",
       "<style scoped>\n",
       "    .dataframe tbody tr th:only-of-type {\n",
       "        vertical-align: middle;\n",
       "    }\n",
       "\n",
       "    .dataframe tbody tr th {\n",
       "        vertical-align: top;\n",
       "    }\n",
       "\n",
       "    .dataframe thead th {\n",
       "        text-align: right;\n",
       "    }\n",
       "</style>\n",
       "<table border=\"1\" class=\"dataframe\">\n",
       "  <thead>\n",
       "    <tr style=\"text-align: right;\">\n",
       "      <th></th>\n",
       "      <th>Real GDP</th>\n",
       "      <th>Nominal GDP</th>\n",
       "    </tr>\n",
       "  </thead>\n",
       "  <tbody>\n",
       "    <tr>\n",
       "      <th>212</th>\n",
       "      <td>12359.1</td>\n",
       "      <td>10031.0</td>\n",
       "    </tr>\n",
       "    <tr>\n",
       "      <th>213</th>\n",
       "      <td>12592.5</td>\n",
       "      <td>10278.3</td>\n",
       "    </tr>\n",
       "    <tr>\n",
       "      <th>214</th>\n",
       "      <td>12607.7</td>\n",
       "      <td>10357.4</td>\n",
       "    </tr>\n",
       "    <tr>\n",
       "      <th>215</th>\n",
       "      <td>12679.3</td>\n",
       "      <td>10472.3</td>\n",
       "    </tr>\n",
       "    <tr>\n",
       "      <th>216</th>\n",
       "      <td>12643.3</td>\n",
       "      <td>10508.1</td>\n",
       "    </tr>\n",
       "    <tr>\n",
       "      <th>217</th>\n",
       "      <td>12710.3</td>\n",
       "      <td>10638.4</td>\n",
       "    </tr>\n",
       "    <tr>\n",
       "      <th>218</th>\n",
       "      <td>12670.1</td>\n",
       "      <td>10639.5</td>\n",
       "    </tr>\n",
       "    <tr>\n",
       "      <th>219</th>\n",
       "      <td>12705.3</td>\n",
       "      <td>10701.3</td>\n",
       "    </tr>\n",
       "    <tr>\n",
       "      <th>220</th>\n",
       "      <td>12822.3</td>\n",
       "      <td>10834.4</td>\n",
       "    </tr>\n",
       "    <tr>\n",
       "      <th>221</th>\n",
       "      <td>12893.0</td>\n",
       "      <td>10934.8</td>\n",
       "    </tr>\n",
       "    <tr>\n",
       "      <th>222</th>\n",
       "      <td>12955.8</td>\n",
       "      <td>11037.1</td>\n",
       "    </tr>\n",
       "    <tr>\n",
       "      <th>223</th>\n",
       "      <td>12964.0</td>\n",
       "      <td>11103.8</td>\n",
       "    </tr>\n",
       "    <tr>\n",
       "      <th>224</th>\n",
       "      <td>13031.2</td>\n",
       "      <td>11230.1</td>\n",
       "    </tr>\n",
       "    <tr>\n",
       "      <th>225</th>\n",
       "      <td>13152.1</td>\n",
       "      <td>11370.7</td>\n",
       "    </tr>\n",
       "    <tr>\n",
       "      <th>226</th>\n",
       "      <td>13372.4</td>\n",
       "      <td>11625.1</td>\n",
       "    </tr>\n",
       "    <tr>\n",
       "      <th>227</th>\n",
       "      <td>13528.7</td>\n",
       "      <td>11816.8</td>\n",
       "    </tr>\n",
       "    <tr>\n",
       "      <th>228</th>\n",
       "      <td>13606.5</td>\n",
       "      <td>11988.4</td>\n",
       "    </tr>\n",
       "    <tr>\n",
       "      <th>229</th>\n",
       "      <td>13706.2</td>\n",
       "      <td>12181.4</td>\n",
       "    </tr>\n",
       "    <tr>\n",
       "      <th>230</th>\n",
       "      <td>13830.8</td>\n",
       "      <td>12367.7</td>\n",
       "    </tr>\n",
       "    <tr>\n",
       "      <th>231</th>\n",
       "      <td>13950.4</td>\n",
       "      <td>12562.2</td>\n",
       "    </tr>\n",
       "    <tr>\n",
       "      <th>232</th>\n",
       "      <td>14099.1</td>\n",
       "      <td>12813.7</td>\n",
       "    </tr>\n",
       "    <tr>\n",
       "      <th>233</th>\n",
       "      <td>14172.7</td>\n",
       "      <td>12974.1</td>\n",
       "    </tr>\n",
       "    <tr>\n",
       "      <th>234</th>\n",
       "      <td>14291.8</td>\n",
       "      <td>13205.4</td>\n",
       "    </tr>\n",
       "    <tr>\n",
       "      <th>235</th>\n",
       "      <td>14373.4</td>\n",
       "      <td>13381.6</td>\n",
       "    </tr>\n",
       "    <tr>\n",
       "      <th>236</th>\n",
       "      <td>14546.1</td>\n",
       "      <td>13648.9</td>\n",
       "    </tr>\n",
       "    <tr>\n",
       "      <th>237</th>\n",
       "      <td>14589.6</td>\n",
       "      <td>13799.8</td>\n",
       "    </tr>\n",
       "    <tr>\n",
       "      <th>238</th>\n",
       "      <td>14602.6</td>\n",
       "      <td>13908.5</td>\n",
       "    </tr>\n",
       "    <tr>\n",
       "      <th>239</th>\n",
       "      <td>14716.9</td>\n",
       "      <td>14066.4</td>\n",
       "    </tr>\n",
       "    <tr>\n",
       "      <th>240</th>\n",
       "      <td>14726.0</td>\n",
       "      <td>14233.2</td>\n",
       "    </tr>\n",
       "    <tr>\n",
       "      <th>241</th>\n",
       "      <td>14838.7</td>\n",
       "      <td>14422.3</td>\n",
       "    </tr>\n",
       "    <tr>\n",
       "      <th>...</th>\n",
       "      <td>...</td>\n",
       "      <td>...</td>\n",
       "    </tr>\n",
       "    <tr>\n",
       "      <th>251</th>\n",
       "      <td>14541.9</td>\n",
       "      <td>14566.5</td>\n",
       "    </tr>\n",
       "    <tr>\n",
       "      <th>252</th>\n",
       "      <td>14604.8</td>\n",
       "      <td>14681.1</td>\n",
       "    </tr>\n",
       "    <tr>\n",
       "      <th>253</th>\n",
       "      <td>14745.9</td>\n",
       "      <td>14888.6</td>\n",
       "    </tr>\n",
       "    <tr>\n",
       "      <th>254</th>\n",
       "      <td>14845.5</td>\n",
       "      <td>15057.7</td>\n",
       "    </tr>\n",
       "    <tr>\n",
       "      <th>255</th>\n",
       "      <td>14939.0</td>\n",
       "      <td>15230.2</td>\n",
       "    </tr>\n",
       "    <tr>\n",
       "      <th>256</th>\n",
       "      <td>14881.3</td>\n",
       "      <td>15238.4</td>\n",
       "    </tr>\n",
       "    <tr>\n",
       "      <th>257</th>\n",
       "      <td>14989.6</td>\n",
       "      <td>15460.9</td>\n",
       "    </tr>\n",
       "    <tr>\n",
       "      <th>258</th>\n",
       "      <td>15021.1</td>\n",
       "      <td>15587.1</td>\n",
       "    </tr>\n",
       "    <tr>\n",
       "      <th>259</th>\n",
       "      <td>15190.3</td>\n",
       "      <td>15785.3</td>\n",
       "    </tr>\n",
       "    <tr>\n",
       "      <th>260</th>\n",
       "      <td>15291.0</td>\n",
       "      <td>15973.9</td>\n",
       "    </tr>\n",
       "    <tr>\n",
       "      <th>261</th>\n",
       "      <td>15362.4</td>\n",
       "      <td>16121.9</td>\n",
       "    </tr>\n",
       "    <tr>\n",
       "      <th>262</th>\n",
       "      <td>15380.8</td>\n",
       "      <td>16227.9</td>\n",
       "    </tr>\n",
       "    <tr>\n",
       "      <th>263</th>\n",
       "      <td>15384.3</td>\n",
       "      <td>16297.3</td>\n",
       "    </tr>\n",
       "    <tr>\n",
       "      <th>264</th>\n",
       "      <td>15491.9</td>\n",
       "      <td>16475.4</td>\n",
       "    </tr>\n",
       "    <tr>\n",
       "      <th>265</th>\n",
       "      <td>15521.6</td>\n",
       "      <td>16541.4</td>\n",
       "    </tr>\n",
       "    <tr>\n",
       "      <th>266</th>\n",
       "      <td>15641.3</td>\n",
       "      <td>16749.3</td>\n",
       "    </tr>\n",
       "    <tr>\n",
       "      <th>267</th>\n",
       "      <td>15793.9</td>\n",
       "      <td>16999.9</td>\n",
       "    </tr>\n",
       "    <tr>\n",
       "      <th>268</th>\n",
       "      <td>15757.6</td>\n",
       "      <td>17031.3</td>\n",
       "    </tr>\n",
       "    <tr>\n",
       "      <th>269</th>\n",
       "      <td>15935.8</td>\n",
       "      <td>17320.9</td>\n",
       "    </tr>\n",
       "    <tr>\n",
       "      <th>270</th>\n",
       "      <td>16139.5</td>\n",
       "      <td>17622.3</td>\n",
       "    </tr>\n",
       "    <tr>\n",
       "      <th>271</th>\n",
       "      <td>16220.2</td>\n",
       "      <td>17735.9</td>\n",
       "    </tr>\n",
       "    <tr>\n",
       "      <th>272</th>\n",
       "      <td>16350.0</td>\n",
       "      <td>17874.7</td>\n",
       "    </tr>\n",
       "    <tr>\n",
       "      <th>273</th>\n",
       "      <td>16460.9</td>\n",
       "      <td>18093.2</td>\n",
       "    </tr>\n",
       "    <tr>\n",
       "      <th>274</th>\n",
       "      <td>16527.6</td>\n",
       "      <td>18227.7</td>\n",
       "    </tr>\n",
       "    <tr>\n",
       "      <th>275</th>\n",
       "      <td>16547.6</td>\n",
       "      <td>18287.2</td>\n",
       "    </tr>\n",
       "    <tr>\n",
       "      <th>276</th>\n",
       "      <td>16571.6</td>\n",
       "      <td>18325.2</td>\n",
       "    </tr>\n",
       "    <tr>\n",
       "      <th>277</th>\n",
       "      <td>16663.5</td>\n",
       "      <td>18538.0</td>\n",
       "    </tr>\n",
       "    <tr>\n",
       "      <th>278</th>\n",
       "      <td>16778.1</td>\n",
       "      <td>18729.1</td>\n",
       "    </tr>\n",
       "    <tr>\n",
       "      <th>279</th>\n",
       "      <td>16851.4</td>\n",
       "      <td>18905.5</td>\n",
       "    </tr>\n",
       "    <tr>\n",
       "      <th>280</th>\n",
       "      <td>16903.2</td>\n",
       "      <td>19057.7</td>\n",
       "    </tr>\n",
       "  </tbody>\n",
       "</table>\n",
       "<p>69 rows × 2 columns</p>\n",
       "</div>"
      ],
      "text/plain": [
       "     Real GDP  Nominal GDP\n",
       "212   12359.1      10031.0\n",
       "213   12592.5      10278.3\n",
       "214   12607.7      10357.4\n",
       "215   12679.3      10472.3\n",
       "216   12643.3      10508.1\n",
       "217   12710.3      10638.4\n",
       "218   12670.1      10639.5\n",
       "219   12705.3      10701.3\n",
       "220   12822.3      10834.4\n",
       "221   12893.0      10934.8\n",
       "222   12955.8      11037.1\n",
       "223   12964.0      11103.8\n",
       "224   13031.2      11230.1\n",
       "225   13152.1      11370.7\n",
       "226   13372.4      11625.1\n",
       "227   13528.7      11816.8\n",
       "228   13606.5      11988.4\n",
       "229   13706.2      12181.4\n",
       "230   13830.8      12367.7\n",
       "231   13950.4      12562.2\n",
       "232   14099.1      12813.7\n",
       "233   14172.7      12974.1\n",
       "234   14291.8      13205.4\n",
       "235   14373.4      13381.6\n",
       "236   14546.1      13648.9\n",
       "237   14589.6      13799.8\n",
       "238   14602.6      13908.5\n",
       "239   14716.9      14066.4\n",
       "240   14726.0      14233.2\n",
       "241   14838.7      14422.3\n",
       "..        ...          ...\n",
       "251   14541.9      14566.5\n",
       "252   14604.8      14681.1\n",
       "253   14745.9      14888.6\n",
       "254   14845.5      15057.7\n",
       "255   14939.0      15230.2\n",
       "256   14881.3      15238.4\n",
       "257   14989.6      15460.9\n",
       "258   15021.1      15587.1\n",
       "259   15190.3      15785.3\n",
       "260   15291.0      15973.9\n",
       "261   15362.4      16121.9\n",
       "262   15380.8      16227.9\n",
       "263   15384.3      16297.3\n",
       "264   15491.9      16475.4\n",
       "265   15521.6      16541.4\n",
       "266   15641.3      16749.3\n",
       "267   15793.9      16999.9\n",
       "268   15757.6      17031.3\n",
       "269   15935.8      17320.9\n",
       "270   16139.5      17622.3\n",
       "271   16220.2      17735.9\n",
       "272   16350.0      17874.7\n",
       "273   16460.9      18093.2\n",
       "274   16527.6      18227.7\n",
       "275   16547.6      18287.2\n",
       "276   16571.6      18325.2\n",
       "277   16663.5      18538.0\n",
       "278   16778.1      18729.1\n",
       "279   16851.4      18905.5\n",
       "280   16903.2      19057.7\n",
       "\n",
       "[69 rows x 2 columns]"
      ]
     },
     "execution_count": 64,
     "metadata": {},
     "output_type": "execute_result"
    }
   ],
   "source": [
    "accounts[accounts[\"Year\"] >= 2000][[\"Real GDP\", \"Nominal GDP\"]]"
   ]
  },
  {
   "cell_type": "markdown",
   "metadata": {},
   "source": [
    "The `accounts` table is being indexed by the condition `accounts[\"Year\"] >= 2000`, which returns a table where only rows that have a \"Year\" greater than $2000$ is returned. We then index this table with the double bracket notation from the previous section to only get the real GDP and nominal GDP columns."
   ]
  },
  {
   "cell_type": "markdown",
   "metadata": {},
   "source": [
    "Suppose now we wanted a table with data from the first quarter, and where the real GDP was less than 5000 or nominal GDP is greater than 15,000."
   ]
  },
  {
   "cell_type": "code",
   "execution_count": 65,
   "metadata": {},
   "outputs": [
    {
     "data": {
      "text/html": [
       "<div>\n",
       "<style scoped>\n",
       "    .dataframe tbody tr th:only-of-type {\n",
       "        vertical-align: middle;\n",
       "    }\n",
       "\n",
       "    .dataframe tbody tr th {\n",
       "        vertical-align: top;\n",
       "    }\n",
       "\n",
       "    .dataframe thead th {\n",
       "        text-align: right;\n",
       "    }\n",
       "</style>\n",
       "<table border=\"1\" class=\"dataframe\">\n",
       "  <thead>\n",
       "    <tr style=\"text-align: right;\">\n",
       "      <th></th>\n",
       "      <th>Year</th>\n",
       "      <th>Quarter</th>\n",
       "      <th>Real GDI</th>\n",
       "      <th>Real GDP</th>\n",
       "      <th>Nominal GDP</th>\n",
       "    </tr>\n",
       "  </thead>\n",
       "  <tbody>\n",
       "    <tr>\n",
       "      <th>0</th>\n",
       "      <td>1947</td>\n",
       "      <td>Q1</td>\n",
       "      <td>1912.5</td>\n",
       "      <td>1934.5</td>\n",
       "      <td>243.1</td>\n",
       "    </tr>\n",
       "    <tr>\n",
       "      <th>4</th>\n",
       "      <td>1948</td>\n",
       "      <td>Q1</td>\n",
       "      <td>1984.4</td>\n",
       "      <td>1989.5</td>\n",
       "      <td>266.2</td>\n",
       "    </tr>\n",
       "    <tr>\n",
       "      <th>8</th>\n",
       "      <td>1949</td>\n",
       "      <td>Q1</td>\n",
       "      <td>2001.5</td>\n",
       "      <td>2007.5</td>\n",
       "      <td>275.4</td>\n",
       "    </tr>\n",
       "    <tr>\n",
       "      <th>12</th>\n",
       "      <td>1950</td>\n",
       "      <td>Q1</td>\n",
       "      <td>2060.1</td>\n",
       "      <td>2084.6</td>\n",
       "      <td>281.2</td>\n",
       "    </tr>\n",
       "    <tr>\n",
       "      <th>16</th>\n",
       "      <td>1951</td>\n",
       "      <td>Q1</td>\n",
       "      <td>2281.0</td>\n",
       "      <td>2304.5</td>\n",
       "      <td>336.4</td>\n",
       "    </tr>\n",
       "    <tr>\n",
       "      <th>20</th>\n",
       "      <td>1952</td>\n",
       "      <td>Q1</td>\n",
       "      <td>2398.3</td>\n",
       "      <td>2423.5</td>\n",
       "      <td>360.2</td>\n",
       "    </tr>\n",
       "    <tr>\n",
       "      <th>24</th>\n",
       "      <td>1953</td>\n",
       "      <td>Q1</td>\n",
       "      <td>2554.3</td>\n",
       "      <td>2573.4</td>\n",
       "      <td>388.5</td>\n",
       "    </tr>\n",
       "    <tr>\n",
       "      <th>28</th>\n",
       "      <td>1954</td>\n",
       "      <td>Q1</td>\n",
       "      <td>2510.1</td>\n",
       "      <td>2528.0</td>\n",
       "      <td>385.9</td>\n",
       "    </tr>\n",
       "    <tr>\n",
       "      <th>32</th>\n",
       "      <td>1955</td>\n",
       "      <td>Q1</td>\n",
       "      <td>2661.6</td>\n",
       "      <td>2683.8</td>\n",
       "      <td>413.8</td>\n",
       "    </tr>\n",
       "    <tr>\n",
       "      <th>36</th>\n",
       "      <td>1956</td>\n",
       "      <td>Q1</td>\n",
       "      <td>2775.4</td>\n",
       "      <td>2770.0</td>\n",
       "      <td>440.5</td>\n",
       "    </tr>\n",
       "    <tr>\n",
       "      <th>40</th>\n",
       "      <td>1957</td>\n",
       "      <td>Q1</td>\n",
       "      <td>2862.0</td>\n",
       "      <td>2854.5</td>\n",
       "      <td>470.6</td>\n",
       "    </tr>\n",
       "    <tr>\n",
       "      <th>44</th>\n",
       "      <td>1958</td>\n",
       "      <td>Q1</td>\n",
       "      <td>2779.9</td>\n",
       "      <td>2772.7</td>\n",
       "      <td>468.4</td>\n",
       "    </tr>\n",
       "    <tr>\n",
       "      <th>48</th>\n",
       "      <td>1959</td>\n",
       "      <td>Q1</td>\n",
       "      <td>2976.5</td>\n",
       "      <td>2976.6</td>\n",
       "      <td>511.1</td>\n",
       "    </tr>\n",
       "    <tr>\n",
       "      <th>52</th>\n",
       "      <td>1960</td>\n",
       "      <td>Q1</td>\n",
       "      <td>3121.9</td>\n",
       "      <td>3123.2</td>\n",
       "      <td>543.3</td>\n",
       "    </tr>\n",
       "    <tr>\n",
       "      <th>56</th>\n",
       "      <td>1961</td>\n",
       "      <td>Q1</td>\n",
       "      <td>3109.9</td>\n",
       "      <td>3102.3</td>\n",
       "      <td>545.9</td>\n",
       "    </tr>\n",
       "    <tr>\n",
       "      <th>60</th>\n",
       "      <td>1962</td>\n",
       "      <td>Q1</td>\n",
       "      <td>3328.6</td>\n",
       "      <td>3336.8</td>\n",
       "      <td>595.2</td>\n",
       "    </tr>\n",
       "    <tr>\n",
       "      <th>64</th>\n",
       "      <td>1963</td>\n",
       "      <td>Q1</td>\n",
       "      <td>3469.1</td>\n",
       "      <td>3456.1</td>\n",
       "      <td>622.7</td>\n",
       "    </tr>\n",
       "    <tr>\n",
       "      <th>68</th>\n",
       "      <td>1964</td>\n",
       "      <td>Q1</td>\n",
       "      <td>3658.6</td>\n",
       "      <td>3672.7</td>\n",
       "      <td>671.1</td>\n",
       "    </tr>\n",
       "    <tr>\n",
       "      <th>72</th>\n",
       "      <td>1965</td>\n",
       "      <td>Q1</td>\n",
       "      <td>3885.5</td>\n",
       "      <td>3873.5</td>\n",
       "      <td>719.2</td>\n",
       "    </tr>\n",
       "    <tr>\n",
       "      <th>76</th>\n",
       "      <td>1966</td>\n",
       "      <td>Q1</td>\n",
       "      <td>4167.8</td>\n",
       "      <td>4201.9</td>\n",
       "      <td>797.3</td>\n",
       "    </tr>\n",
       "    <tr>\n",
       "      <th>80</th>\n",
       "      <td>1967</td>\n",
       "      <td>Q1</td>\n",
       "      <td>4286.5</td>\n",
       "      <td>4324.9</td>\n",
       "      <td>846.0</td>\n",
       "    </tr>\n",
       "    <tr>\n",
       "      <th>84</th>\n",
       "      <td>1968</td>\n",
       "      <td>Q1</td>\n",
       "      <td>4465.6</td>\n",
       "      <td>4490.6</td>\n",
       "      <td>911.1</td>\n",
       "    </tr>\n",
       "    <tr>\n",
       "      <th>88</th>\n",
       "      <td>1969</td>\n",
       "      <td>Q1</td>\n",
       "      <td>4665.4</td>\n",
       "      <td>4691.6</td>\n",
       "      <td>995.4</td>\n",
       "    </tr>\n",
       "    <tr>\n",
       "      <th>92</th>\n",
       "      <td>1970</td>\n",
       "      <td>Q1</td>\n",
       "      <td>4690.4</td>\n",
       "      <td>4707.1</td>\n",
       "      <td>1053.5</td>\n",
       "    </tr>\n",
       "    <tr>\n",
       "      <th>96</th>\n",
       "      <td>1971</td>\n",
       "      <td>Q1</td>\n",
       "      <td>4778.0</td>\n",
       "      <td>4834.3</td>\n",
       "      <td>1137.8</td>\n",
       "    </tr>\n",
       "    <tr>\n",
       "      <th>256</th>\n",
       "      <td>2011</td>\n",
       "      <td>Q1</td>\n",
       "      <td>14924.4</td>\n",
       "      <td>14881.3</td>\n",
       "      <td>15238.4</td>\n",
       "    </tr>\n",
       "    <tr>\n",
       "      <th>260</th>\n",
       "      <td>2012</td>\n",
       "      <td>Q1</td>\n",
       "      <td>15500.4</td>\n",
       "      <td>15291.0</td>\n",
       "      <td>15973.9</td>\n",
       "    </tr>\n",
       "    <tr>\n",
       "      <th>264</th>\n",
       "      <td>2013</td>\n",
       "      <td>Q1</td>\n",
       "      <td>15642.7</td>\n",
       "      <td>15491.9</td>\n",
       "      <td>16475.4</td>\n",
       "    </tr>\n",
       "    <tr>\n",
       "      <th>268</th>\n",
       "      <td>2014</td>\n",
       "      <td>Q1</td>\n",
       "      <td>15912.8</td>\n",
       "      <td>15757.6</td>\n",
       "      <td>17031.3</td>\n",
       "    </tr>\n",
       "    <tr>\n",
       "      <th>272</th>\n",
       "      <td>2015</td>\n",
       "      <td>Q1</td>\n",
       "      <td>16599.6</td>\n",
       "      <td>16350.0</td>\n",
       "      <td>17874.7</td>\n",
       "    </tr>\n",
       "    <tr>\n",
       "      <th>276</th>\n",
       "      <td>2016</td>\n",
       "      <td>Q1</td>\n",
       "      <td>16776.1</td>\n",
       "      <td>16571.6</td>\n",
       "      <td>18325.2</td>\n",
       "    </tr>\n",
       "    <tr>\n",
       "      <th>280</th>\n",
       "      <td>2017</td>\n",
       "      <td>Q1</td>\n",
       "      <td>16992.1</td>\n",
       "      <td>16903.2</td>\n",
       "      <td>19057.7</td>\n",
       "    </tr>\n",
       "  </tbody>\n",
       "</table>\n",
       "</div>"
      ],
      "text/plain": [
       "     Year Quarter  Real GDI  Real GDP  Nominal GDP\n",
       "0    1947      Q1    1912.5    1934.5        243.1\n",
       "4    1948      Q1    1984.4    1989.5        266.2\n",
       "8    1949      Q1    2001.5    2007.5        275.4\n",
       "12   1950      Q1    2060.1    2084.6        281.2\n",
       "16   1951      Q1    2281.0    2304.5        336.4\n",
       "20   1952      Q1    2398.3    2423.5        360.2\n",
       "24   1953      Q1    2554.3    2573.4        388.5\n",
       "28   1954      Q1    2510.1    2528.0        385.9\n",
       "32   1955      Q1    2661.6    2683.8        413.8\n",
       "36   1956      Q1    2775.4    2770.0        440.5\n",
       "40   1957      Q1    2862.0    2854.5        470.6\n",
       "44   1958      Q1    2779.9    2772.7        468.4\n",
       "48   1959      Q1    2976.5    2976.6        511.1\n",
       "52   1960      Q1    3121.9    3123.2        543.3\n",
       "56   1961      Q1    3109.9    3102.3        545.9\n",
       "60   1962      Q1    3328.6    3336.8        595.2\n",
       "64   1963      Q1    3469.1    3456.1        622.7\n",
       "68   1964      Q1    3658.6    3672.7        671.1\n",
       "72   1965      Q1    3885.5    3873.5        719.2\n",
       "76   1966      Q1    4167.8    4201.9        797.3\n",
       "80   1967      Q1    4286.5    4324.9        846.0\n",
       "84   1968      Q1    4465.6    4490.6        911.1\n",
       "88   1969      Q1    4665.4    4691.6        995.4\n",
       "92   1970      Q1    4690.4    4707.1       1053.5\n",
       "96   1971      Q1    4778.0    4834.3       1137.8\n",
       "256  2011      Q1   14924.4   14881.3      15238.4\n",
       "260  2012      Q1   15500.4   15291.0      15973.9\n",
       "264  2013      Q1   15642.7   15491.9      16475.4\n",
       "268  2014      Q1   15912.8   15757.6      17031.3\n",
       "272  2015      Q1   16599.6   16350.0      17874.7\n",
       "276  2016      Q1   16776.1   16571.6      18325.2\n",
       "280  2017      Q1   16992.1   16903.2      19057.7"
      ]
     },
     "execution_count": 65,
     "metadata": {},
     "output_type": "execute_result"
    }
   ],
   "source": [
    "accounts[(accounts[\"Quarter\"] == \"Q1\") & ((accounts[\"Real GDP\"] < 5000) | (accounts[\"Nominal GDP\"] > 15000))]"
   ]
  },
  {
   "cell_type": "markdown",
   "metadata": {},
   "source": [
    "Many different conditions can be included to filter, and you can use `&` and `|` operators to connect them together. Make sure to include parantheses for each condition!"
   ]
  },
  {
   "cell_type": "markdown",
   "metadata": {},
   "source": [
    "Another way to reorganize data to make it more convenient is to sort the data by the values in a specific column. For example, if we wanted to find the highest real GDP since 1947, we could sort the table for real GDP:"
   ]
  },
  {
   "cell_type": "code",
   "execution_count": 66,
   "metadata": {},
   "outputs": [
    {
     "data": {
      "text/html": [
       "<div>\n",
       "<style scoped>\n",
       "    .dataframe tbody tr th:only-of-type {\n",
       "        vertical-align: middle;\n",
       "    }\n",
       "\n",
       "    .dataframe tbody tr th {\n",
       "        vertical-align: top;\n",
       "    }\n",
       "\n",
       "    .dataframe thead th {\n",
       "        text-align: right;\n",
       "    }\n",
       "</style>\n",
       "<table border=\"1\" class=\"dataframe\">\n",
       "  <thead>\n",
       "    <tr style=\"text-align: right;\">\n",
       "      <th></th>\n",
       "      <th>Year</th>\n",
       "      <th>Quarter</th>\n",
       "      <th>Real GDI</th>\n",
       "      <th>Real GDP</th>\n",
       "      <th>Nominal GDP</th>\n",
       "    </tr>\n",
       "  </thead>\n",
       "  <tbody>\n",
       "    <tr>\n",
       "      <th>2</th>\n",
       "      <td>1947</td>\n",
       "      <td>Q3</td>\n",
       "      <td>1914.0</td>\n",
       "      <td>1930.3</td>\n",
       "      <td>250.1</td>\n",
       "    </tr>\n",
       "    <tr>\n",
       "      <th>1</th>\n",
       "      <td>1947</td>\n",
       "      <td>Q2</td>\n",
       "      <td>1910.9</td>\n",
       "      <td>1932.3</td>\n",
       "      <td>246.3</td>\n",
       "    </tr>\n",
       "    <tr>\n",
       "      <th>0</th>\n",
       "      <td>1947</td>\n",
       "      <td>Q1</td>\n",
       "      <td>1912.5</td>\n",
       "      <td>1934.5</td>\n",
       "      <td>243.1</td>\n",
       "    </tr>\n",
       "    <tr>\n",
       "      <th>3</th>\n",
       "      <td>1947</td>\n",
       "      <td>Q4</td>\n",
       "      <td>1932.0</td>\n",
       "      <td>1960.7</td>\n",
       "      <td>260.3</td>\n",
       "    </tr>\n",
       "    <tr>\n",
       "      <th>4</th>\n",
       "      <td>1948</td>\n",
       "      <td>Q1</td>\n",
       "      <td>1984.4</td>\n",
       "      <td>1989.5</td>\n",
       "      <td>266.2</td>\n",
       "    </tr>\n",
       "    <tr>\n",
       "      <th>9</th>\n",
       "      <td>1949</td>\n",
       "      <td>Q2</td>\n",
       "      <td>1995.9</td>\n",
       "      <td>2000.8</td>\n",
       "      <td>271.7</td>\n",
       "    </tr>\n",
       "    <tr>\n",
       "      <th>11</th>\n",
       "      <td>1949</td>\n",
       "      <td>Q4</td>\n",
       "      <td>1979.6</td>\n",
       "      <td>2004.7</td>\n",
       "      <td>271.0</td>\n",
       "    </tr>\n",
       "    <tr>\n",
       "      <th>8</th>\n",
       "      <td>1949</td>\n",
       "      <td>Q1</td>\n",
       "      <td>2001.5</td>\n",
       "      <td>2007.5</td>\n",
       "      <td>275.4</td>\n",
       "    </tr>\n",
       "    <tr>\n",
       "      <th>5</th>\n",
       "      <td>1948</td>\n",
       "      <td>Q2</td>\n",
       "      <td>2030.2</td>\n",
       "      <td>2021.9</td>\n",
       "      <td>272.9</td>\n",
       "    </tr>\n",
       "    <tr>\n",
       "      <th>10</th>\n",
       "      <td>1949</td>\n",
       "      <td>Q3</td>\n",
       "      <td>2007.9</td>\n",
       "      <td>2022.8</td>\n",
       "      <td>273.3</td>\n",
       "    </tr>\n",
       "    <tr>\n",
       "      <th>6</th>\n",
       "      <td>1948</td>\n",
       "      <td>Q3</td>\n",
       "      <td>2031.5</td>\n",
       "      <td>2033.2</td>\n",
       "      <td>279.5</td>\n",
       "    </tr>\n",
       "    <tr>\n",
       "      <th>7</th>\n",
       "      <td>1948</td>\n",
       "      <td>Q4</td>\n",
       "      <td>2041.6</td>\n",
       "      <td>2035.3</td>\n",
       "      <td>280.7</td>\n",
       "    </tr>\n",
       "    <tr>\n",
       "      <th>12</th>\n",
       "      <td>1950</td>\n",
       "      <td>Q1</td>\n",
       "      <td>2060.1</td>\n",
       "      <td>2084.6</td>\n",
       "      <td>281.2</td>\n",
       "    </tr>\n",
       "    <tr>\n",
       "      <th>13</th>\n",
       "      <td>1950</td>\n",
       "      <td>Q2</td>\n",
       "      <td>2144.4</td>\n",
       "      <td>2147.6</td>\n",
       "      <td>290.7</td>\n",
       "    </tr>\n",
       "    <tr>\n",
       "      <th>14</th>\n",
       "      <td>1950</td>\n",
       "      <td>Q3</td>\n",
       "      <td>2225.9</td>\n",
       "      <td>2230.4</td>\n",
       "      <td>308.5</td>\n",
       "    </tr>\n",
       "    <tr>\n",
       "      <th>15</th>\n",
       "      <td>1950</td>\n",
       "      <td>Q4</td>\n",
       "      <td>2268.9</td>\n",
       "      <td>2273.4</td>\n",
       "      <td>320.3</td>\n",
       "    </tr>\n",
       "    <tr>\n",
       "      <th>16</th>\n",
       "      <td>1951</td>\n",
       "      <td>Q1</td>\n",
       "      <td>2281.0</td>\n",
       "      <td>2304.5</td>\n",
       "      <td>336.4</td>\n",
       "    </tr>\n",
       "    <tr>\n",
       "      <th>17</th>\n",
       "      <td>1951</td>\n",
       "      <td>Q2</td>\n",
       "      <td>2321.3</td>\n",
       "      <td>2344.5</td>\n",
       "      <td>344.5</td>\n",
       "    </tr>\n",
       "    <tr>\n",
       "      <th>18</th>\n",
       "      <td>1951</td>\n",
       "      <td>Q3</td>\n",
       "      <td>2362.0</td>\n",
       "      <td>2392.8</td>\n",
       "      <td>351.8</td>\n",
       "    </tr>\n",
       "    <tr>\n",
       "      <th>19</th>\n",
       "      <td>1951</td>\n",
       "      <td>Q4</td>\n",
       "      <td>2382.7</td>\n",
       "      <td>2398.1</td>\n",
       "      <td>356.6</td>\n",
       "    </tr>\n",
       "    <tr>\n",
       "      <th>20</th>\n",
       "      <td>1952</td>\n",
       "      <td>Q1</td>\n",
       "      <td>2398.3</td>\n",
       "      <td>2423.5</td>\n",
       "      <td>360.2</td>\n",
       "    </tr>\n",
       "    <tr>\n",
       "      <th>21</th>\n",
       "      <td>1952</td>\n",
       "      <td>Q2</td>\n",
       "      <td>2412.6</td>\n",
       "      <td>2428.5</td>\n",
       "      <td>361.4</td>\n",
       "    </tr>\n",
       "    <tr>\n",
       "      <th>22</th>\n",
       "      <td>1952</td>\n",
       "      <td>Q3</td>\n",
       "      <td>2435.0</td>\n",
       "      <td>2446.1</td>\n",
       "      <td>368.1</td>\n",
       "    </tr>\n",
       "    <tr>\n",
       "      <th>23</th>\n",
       "      <td>1952</td>\n",
       "      <td>Q4</td>\n",
       "      <td>2509.5</td>\n",
       "      <td>2526.4</td>\n",
       "      <td>381.2</td>\n",
       "    </tr>\n",
       "    <tr>\n",
       "      <th>28</th>\n",
       "      <td>1954</td>\n",
       "      <td>Q1</td>\n",
       "      <td>2510.1</td>\n",
       "      <td>2528.0</td>\n",
       "      <td>385.9</td>\n",
       "    </tr>\n",
       "    <tr>\n",
       "      <th>29</th>\n",
       "      <td>1954</td>\n",
       "      <td>Q2</td>\n",
       "      <td>2514.5</td>\n",
       "      <td>2530.7</td>\n",
       "      <td>386.7</td>\n",
       "    </tr>\n",
       "    <tr>\n",
       "      <th>27</th>\n",
       "      <td>1953</td>\n",
       "      <td>Q4</td>\n",
       "      <td>2504.1</td>\n",
       "      <td>2539.8</td>\n",
       "      <td>386.5</td>\n",
       "    </tr>\n",
       "    <tr>\n",
       "      <th>30</th>\n",
       "      <td>1954</td>\n",
       "      <td>Q3</td>\n",
       "      <td>2537.1</td>\n",
       "      <td>2559.4</td>\n",
       "      <td>391.6</td>\n",
       "    </tr>\n",
       "    <tr>\n",
       "      <th>24</th>\n",
       "      <td>1953</td>\n",
       "      <td>Q1</td>\n",
       "      <td>2554.3</td>\n",
       "      <td>2573.4</td>\n",
       "      <td>388.5</td>\n",
       "    </tr>\n",
       "    <tr>\n",
       "      <th>26</th>\n",
       "      <td>1953</td>\n",
       "      <td>Q3</td>\n",
       "      <td>2555.7</td>\n",
       "      <td>2578.9</td>\n",
       "      <td>391.7</td>\n",
       "    </tr>\n",
       "    <tr>\n",
       "      <th>...</th>\n",
       "      <td>...</td>\n",
       "      <td>...</td>\n",
       "      <td>...</td>\n",
       "      <td>...</td>\n",
       "      <td>...</td>\n",
       "    </tr>\n",
       "    <tr>\n",
       "      <th>244</th>\n",
       "      <td>2008</td>\n",
       "      <td>Q1</td>\n",
       "      <td>14842.2</td>\n",
       "      <td>14889.5</td>\n",
       "      <td>14668.4</td>\n",
       "    </tr>\n",
       "    <tr>\n",
       "      <th>246</th>\n",
       "      <td>2008</td>\n",
       "      <td>Q3</td>\n",
       "      <td>14767.0</td>\n",
       "      <td>14891.6</td>\n",
       "      <td>14843.0</td>\n",
       "    </tr>\n",
       "    <tr>\n",
       "      <th>242</th>\n",
       "      <td>2007</td>\n",
       "      <td>Q3</td>\n",
       "      <td>14822.4</td>\n",
       "      <td>14938.5</td>\n",
       "      <td>14569.7</td>\n",
       "    </tr>\n",
       "    <tr>\n",
       "      <th>255</th>\n",
       "      <td>2010</td>\n",
       "      <td>Q4</td>\n",
       "      <td>14904.9</td>\n",
       "      <td>14939.0</td>\n",
       "      <td>15230.2</td>\n",
       "    </tr>\n",
       "    <tr>\n",
       "      <th>245</th>\n",
       "      <td>2008</td>\n",
       "      <td>Q2</td>\n",
       "      <td>14832.4</td>\n",
       "      <td>14963.4</td>\n",
       "      <td>14813.0</td>\n",
       "    </tr>\n",
       "    <tr>\n",
       "      <th>257</th>\n",
       "      <td>2011</td>\n",
       "      <td>Q2</td>\n",
       "      <td>14996.1</td>\n",
       "      <td>14989.6</td>\n",
       "      <td>15460.9</td>\n",
       "    </tr>\n",
       "    <tr>\n",
       "      <th>243</th>\n",
       "      <td>2007</td>\n",
       "      <td>Q4</td>\n",
       "      <td>14816.6</td>\n",
       "      <td>14991.8</td>\n",
       "      <td>14685.3</td>\n",
       "    </tr>\n",
       "    <tr>\n",
       "      <th>258</th>\n",
       "      <td>2011</td>\n",
       "      <td>Q3</td>\n",
       "      <td>15093.1</td>\n",
       "      <td>15021.1</td>\n",
       "      <td>15587.1</td>\n",
       "    </tr>\n",
       "    <tr>\n",
       "      <th>259</th>\n",
       "      <td>2011</td>\n",
       "      <td>Q4</td>\n",
       "      <td>15217.0</td>\n",
       "      <td>15190.3</td>\n",
       "      <td>15785.3</td>\n",
       "    </tr>\n",
       "    <tr>\n",
       "      <th>260</th>\n",
       "      <td>2012</td>\n",
       "      <td>Q1</td>\n",
       "      <td>15500.4</td>\n",
       "      <td>15291.0</td>\n",
       "      <td>15973.9</td>\n",
       "    </tr>\n",
       "    <tr>\n",
       "      <th>261</th>\n",
       "      <td>2012</td>\n",
       "      <td>Q2</td>\n",
       "      <td>15522.8</td>\n",
       "      <td>15362.4</td>\n",
       "      <td>16121.9</td>\n",
       "    </tr>\n",
       "    <tr>\n",
       "      <th>262</th>\n",
       "      <td>2012</td>\n",
       "      <td>Q3</td>\n",
       "      <td>15517.1</td>\n",
       "      <td>15380.8</td>\n",
       "      <td>16227.9</td>\n",
       "    </tr>\n",
       "    <tr>\n",
       "      <th>263</th>\n",
       "      <td>2012</td>\n",
       "      <td>Q4</td>\n",
       "      <td>15650.6</td>\n",
       "      <td>15384.3</td>\n",
       "      <td>16297.3</td>\n",
       "    </tr>\n",
       "    <tr>\n",
       "      <th>264</th>\n",
       "      <td>2013</td>\n",
       "      <td>Q1</td>\n",
       "      <td>15642.7</td>\n",
       "      <td>15491.9</td>\n",
       "      <td>16475.4</td>\n",
       "    </tr>\n",
       "    <tr>\n",
       "      <th>265</th>\n",
       "      <td>2013</td>\n",
       "      <td>Q2</td>\n",
       "      <td>15719.8</td>\n",
       "      <td>15521.6</td>\n",
       "      <td>16541.4</td>\n",
       "    </tr>\n",
       "    <tr>\n",
       "      <th>266</th>\n",
       "      <td>2013</td>\n",
       "      <td>Q3</td>\n",
       "      <td>15752.0</td>\n",
       "      <td>15641.3</td>\n",
       "      <td>16749.3</td>\n",
       "    </tr>\n",
       "    <tr>\n",
       "      <th>268</th>\n",
       "      <td>2014</td>\n",
       "      <td>Q1</td>\n",
       "      <td>15912.8</td>\n",
       "      <td>15757.6</td>\n",
       "      <td>17031.3</td>\n",
       "    </tr>\n",
       "    <tr>\n",
       "      <th>267</th>\n",
       "      <td>2013</td>\n",
       "      <td>Q4</td>\n",
       "      <td>15851.3</td>\n",
       "      <td>15793.9</td>\n",
       "      <td>16999.9</td>\n",
       "    </tr>\n",
       "    <tr>\n",
       "      <th>269</th>\n",
       "      <td>2014</td>\n",
       "      <td>Q2</td>\n",
       "      <td>16136.1</td>\n",
       "      <td>15935.8</td>\n",
       "      <td>17320.9</td>\n",
       "    </tr>\n",
       "    <tr>\n",
       "      <th>270</th>\n",
       "      <td>2014</td>\n",
       "      <td>Q3</td>\n",
       "      <td>16327.9</td>\n",
       "      <td>16139.5</td>\n",
       "      <td>17622.3</td>\n",
       "    </tr>\n",
       "    <tr>\n",
       "      <th>271</th>\n",
       "      <td>2014</td>\n",
       "      <td>Q4</td>\n",
       "      <td>16520.8</td>\n",
       "      <td>16220.2</td>\n",
       "      <td>17735.9</td>\n",
       "    </tr>\n",
       "    <tr>\n",
       "      <th>272</th>\n",
       "      <td>2015</td>\n",
       "      <td>Q1</td>\n",
       "      <td>16599.6</td>\n",
       "      <td>16350.0</td>\n",
       "      <td>17874.7</td>\n",
       "    </tr>\n",
       "    <tr>\n",
       "      <th>273</th>\n",
       "      <td>2015</td>\n",
       "      <td>Q2</td>\n",
       "      <td>16700.6</td>\n",
       "      <td>16460.9</td>\n",
       "      <td>18093.2</td>\n",
       "    </tr>\n",
       "    <tr>\n",
       "      <th>274</th>\n",
       "      <td>2015</td>\n",
       "      <td>Q3</td>\n",
       "      <td>16726.7</td>\n",
       "      <td>16527.6</td>\n",
       "      <td>18227.7</td>\n",
       "    </tr>\n",
       "    <tr>\n",
       "      <th>275</th>\n",
       "      <td>2015</td>\n",
       "      <td>Q4</td>\n",
       "      <td>16789.8</td>\n",
       "      <td>16547.6</td>\n",
       "      <td>18287.2</td>\n",
       "    </tr>\n",
       "    <tr>\n",
       "      <th>276</th>\n",
       "      <td>2016</td>\n",
       "      <td>Q1</td>\n",
       "      <td>16776.1</td>\n",
       "      <td>16571.6</td>\n",
       "      <td>18325.2</td>\n",
       "    </tr>\n",
       "    <tr>\n",
       "      <th>277</th>\n",
       "      <td>2016</td>\n",
       "      <td>Q2</td>\n",
       "      <td>16783.0</td>\n",
       "      <td>16663.5</td>\n",
       "      <td>18538.0</td>\n",
       "    </tr>\n",
       "    <tr>\n",
       "      <th>278</th>\n",
       "      <td>2016</td>\n",
       "      <td>Q3</td>\n",
       "      <td>16953.0</td>\n",
       "      <td>16778.1</td>\n",
       "      <td>18729.1</td>\n",
       "    </tr>\n",
       "    <tr>\n",
       "      <th>279</th>\n",
       "      <td>2016</td>\n",
       "      <td>Q4</td>\n",
       "      <td>16882.1</td>\n",
       "      <td>16851.4</td>\n",
       "      <td>18905.5</td>\n",
       "    </tr>\n",
       "    <tr>\n",
       "      <th>280</th>\n",
       "      <td>2017</td>\n",
       "      <td>Q1</td>\n",
       "      <td>16992.1</td>\n",
       "      <td>16903.2</td>\n",
       "      <td>19057.7</td>\n",
       "    </tr>\n",
       "  </tbody>\n",
       "</table>\n",
       "<p>281 rows × 5 columns</p>\n",
       "</div>"
      ],
      "text/plain": [
       "     Year Quarter  Real GDI  Real GDP  Nominal GDP\n",
       "2    1947      Q3    1914.0    1930.3        250.1\n",
       "1    1947      Q2    1910.9    1932.3        246.3\n",
       "0    1947      Q1    1912.5    1934.5        243.1\n",
       "3    1947      Q4    1932.0    1960.7        260.3\n",
       "4    1948      Q1    1984.4    1989.5        266.2\n",
       "9    1949      Q2    1995.9    2000.8        271.7\n",
       "11   1949      Q4    1979.6    2004.7        271.0\n",
       "8    1949      Q1    2001.5    2007.5        275.4\n",
       "5    1948      Q2    2030.2    2021.9        272.9\n",
       "10   1949      Q3    2007.9    2022.8        273.3\n",
       "6    1948      Q3    2031.5    2033.2        279.5\n",
       "7    1948      Q4    2041.6    2035.3        280.7\n",
       "12   1950      Q1    2060.1    2084.6        281.2\n",
       "13   1950      Q2    2144.4    2147.6        290.7\n",
       "14   1950      Q3    2225.9    2230.4        308.5\n",
       "15   1950      Q4    2268.9    2273.4        320.3\n",
       "16   1951      Q1    2281.0    2304.5        336.4\n",
       "17   1951      Q2    2321.3    2344.5        344.5\n",
       "18   1951      Q3    2362.0    2392.8        351.8\n",
       "19   1951      Q4    2382.7    2398.1        356.6\n",
       "20   1952      Q1    2398.3    2423.5        360.2\n",
       "21   1952      Q2    2412.6    2428.5        361.4\n",
       "22   1952      Q3    2435.0    2446.1        368.1\n",
       "23   1952      Q4    2509.5    2526.4        381.2\n",
       "28   1954      Q1    2510.1    2528.0        385.9\n",
       "29   1954      Q2    2514.5    2530.7        386.7\n",
       "27   1953      Q4    2504.1    2539.8        386.5\n",
       "30   1954      Q3    2537.1    2559.4        391.6\n",
       "24   1953      Q1    2554.3    2573.4        388.5\n",
       "26   1953      Q3    2555.7    2578.9        391.7\n",
       "..    ...     ...       ...       ...          ...\n",
       "244  2008      Q1   14842.2   14889.5      14668.4\n",
       "246  2008      Q3   14767.0   14891.6      14843.0\n",
       "242  2007      Q3   14822.4   14938.5      14569.7\n",
       "255  2010      Q4   14904.9   14939.0      15230.2\n",
       "245  2008      Q2   14832.4   14963.4      14813.0\n",
       "257  2011      Q2   14996.1   14989.6      15460.9\n",
       "243  2007      Q4   14816.6   14991.8      14685.3\n",
       "258  2011      Q3   15093.1   15021.1      15587.1\n",
       "259  2011      Q4   15217.0   15190.3      15785.3\n",
       "260  2012      Q1   15500.4   15291.0      15973.9\n",
       "261  2012      Q2   15522.8   15362.4      16121.9\n",
       "262  2012      Q3   15517.1   15380.8      16227.9\n",
       "263  2012      Q4   15650.6   15384.3      16297.3\n",
       "264  2013      Q1   15642.7   15491.9      16475.4\n",
       "265  2013      Q2   15719.8   15521.6      16541.4\n",
       "266  2013      Q3   15752.0   15641.3      16749.3\n",
       "268  2014      Q1   15912.8   15757.6      17031.3\n",
       "267  2013      Q4   15851.3   15793.9      16999.9\n",
       "269  2014      Q2   16136.1   15935.8      17320.9\n",
       "270  2014      Q3   16327.9   16139.5      17622.3\n",
       "271  2014      Q4   16520.8   16220.2      17735.9\n",
       "272  2015      Q1   16599.6   16350.0      17874.7\n",
       "273  2015      Q2   16700.6   16460.9      18093.2\n",
       "274  2015      Q3   16726.7   16527.6      18227.7\n",
       "275  2015      Q4   16789.8   16547.6      18287.2\n",
       "276  2016      Q1   16776.1   16571.6      18325.2\n",
       "277  2016      Q2   16783.0   16663.5      18538.0\n",
       "278  2016      Q3   16953.0   16778.1      18729.1\n",
       "279  2016      Q4   16882.1   16851.4      18905.5\n",
       "280  2017      Q1   16992.1   16903.2      19057.7\n",
       "\n",
       "[281 rows x 5 columns]"
      ]
     },
     "execution_count": 66,
     "metadata": {},
     "output_type": "execute_result"
    }
   ],
   "source": [
    "accounts.sort_values(\"Real GDP\")"
   ]
  },
  {
   "cell_type": "markdown",
   "metadata": {},
   "source": [
    "But wait! The table looks like it's sorted in increasing order. This is because `sort_values` defaults to ordering the column in ascending order. To correct this, add in the extra optional parameter"
   ]
  },
  {
   "cell_type": "code",
   "execution_count": 67,
   "metadata": {},
   "outputs": [
    {
     "data": {
      "text/html": [
       "<div>\n",
       "<style scoped>\n",
       "    .dataframe tbody tr th:only-of-type {\n",
       "        vertical-align: middle;\n",
       "    }\n",
       "\n",
       "    .dataframe tbody tr th {\n",
       "        vertical-align: top;\n",
       "    }\n",
       "\n",
       "    .dataframe thead th {\n",
       "        text-align: right;\n",
       "    }\n",
       "</style>\n",
       "<table border=\"1\" class=\"dataframe\">\n",
       "  <thead>\n",
       "    <tr style=\"text-align: right;\">\n",
       "      <th></th>\n",
       "      <th>Year</th>\n",
       "      <th>Quarter</th>\n",
       "      <th>Real GDI</th>\n",
       "      <th>Real GDP</th>\n",
       "      <th>Nominal GDP</th>\n",
       "    </tr>\n",
       "  </thead>\n",
       "  <tbody>\n",
       "    <tr>\n",
       "      <th>280</th>\n",
       "      <td>2017</td>\n",
       "      <td>Q1</td>\n",
       "      <td>16992.1</td>\n",
       "      <td>16903.2</td>\n",
       "      <td>19057.7</td>\n",
       "    </tr>\n",
       "    <tr>\n",
       "      <th>279</th>\n",
       "      <td>2016</td>\n",
       "      <td>Q4</td>\n",
       "      <td>16882.1</td>\n",
       "      <td>16851.4</td>\n",
       "      <td>18905.5</td>\n",
       "    </tr>\n",
       "    <tr>\n",
       "      <th>278</th>\n",
       "      <td>2016</td>\n",
       "      <td>Q3</td>\n",
       "      <td>16953.0</td>\n",
       "      <td>16778.1</td>\n",
       "      <td>18729.1</td>\n",
       "    </tr>\n",
       "    <tr>\n",
       "      <th>277</th>\n",
       "      <td>2016</td>\n",
       "      <td>Q2</td>\n",
       "      <td>16783.0</td>\n",
       "      <td>16663.5</td>\n",
       "      <td>18538.0</td>\n",
       "    </tr>\n",
       "    <tr>\n",
       "      <th>276</th>\n",
       "      <td>2016</td>\n",
       "      <td>Q1</td>\n",
       "      <td>16776.1</td>\n",
       "      <td>16571.6</td>\n",
       "      <td>18325.2</td>\n",
       "    </tr>\n",
       "    <tr>\n",
       "      <th>275</th>\n",
       "      <td>2015</td>\n",
       "      <td>Q4</td>\n",
       "      <td>16789.8</td>\n",
       "      <td>16547.6</td>\n",
       "      <td>18287.2</td>\n",
       "    </tr>\n",
       "    <tr>\n",
       "      <th>274</th>\n",
       "      <td>2015</td>\n",
       "      <td>Q3</td>\n",
       "      <td>16726.7</td>\n",
       "      <td>16527.6</td>\n",
       "      <td>18227.7</td>\n",
       "    </tr>\n",
       "    <tr>\n",
       "      <th>273</th>\n",
       "      <td>2015</td>\n",
       "      <td>Q2</td>\n",
       "      <td>16700.6</td>\n",
       "      <td>16460.9</td>\n",
       "      <td>18093.2</td>\n",
       "    </tr>\n",
       "    <tr>\n",
       "      <th>272</th>\n",
       "      <td>2015</td>\n",
       "      <td>Q1</td>\n",
       "      <td>16599.6</td>\n",
       "      <td>16350.0</td>\n",
       "      <td>17874.7</td>\n",
       "    </tr>\n",
       "    <tr>\n",
       "      <th>271</th>\n",
       "      <td>2014</td>\n",
       "      <td>Q4</td>\n",
       "      <td>16520.8</td>\n",
       "      <td>16220.2</td>\n",
       "      <td>17735.9</td>\n",
       "    </tr>\n",
       "    <tr>\n",
       "      <th>270</th>\n",
       "      <td>2014</td>\n",
       "      <td>Q3</td>\n",
       "      <td>16327.9</td>\n",
       "      <td>16139.5</td>\n",
       "      <td>17622.3</td>\n",
       "    </tr>\n",
       "    <tr>\n",
       "      <th>269</th>\n",
       "      <td>2014</td>\n",
       "      <td>Q2</td>\n",
       "      <td>16136.1</td>\n",
       "      <td>15935.8</td>\n",
       "      <td>17320.9</td>\n",
       "    </tr>\n",
       "    <tr>\n",
       "      <th>267</th>\n",
       "      <td>2013</td>\n",
       "      <td>Q4</td>\n",
       "      <td>15851.3</td>\n",
       "      <td>15793.9</td>\n",
       "      <td>16999.9</td>\n",
       "    </tr>\n",
       "    <tr>\n",
       "      <th>268</th>\n",
       "      <td>2014</td>\n",
       "      <td>Q1</td>\n",
       "      <td>15912.8</td>\n",
       "      <td>15757.6</td>\n",
       "      <td>17031.3</td>\n",
       "    </tr>\n",
       "    <tr>\n",
       "      <th>266</th>\n",
       "      <td>2013</td>\n",
       "      <td>Q3</td>\n",
       "      <td>15752.0</td>\n",
       "      <td>15641.3</td>\n",
       "      <td>16749.3</td>\n",
       "    </tr>\n",
       "    <tr>\n",
       "      <th>265</th>\n",
       "      <td>2013</td>\n",
       "      <td>Q2</td>\n",
       "      <td>15719.8</td>\n",
       "      <td>15521.6</td>\n",
       "      <td>16541.4</td>\n",
       "    </tr>\n",
       "    <tr>\n",
       "      <th>264</th>\n",
       "      <td>2013</td>\n",
       "      <td>Q1</td>\n",
       "      <td>15642.7</td>\n",
       "      <td>15491.9</td>\n",
       "      <td>16475.4</td>\n",
       "    </tr>\n",
       "    <tr>\n",
       "      <th>263</th>\n",
       "      <td>2012</td>\n",
       "      <td>Q4</td>\n",
       "      <td>15650.6</td>\n",
       "      <td>15384.3</td>\n",
       "      <td>16297.3</td>\n",
       "    </tr>\n",
       "    <tr>\n",
       "      <th>262</th>\n",
       "      <td>2012</td>\n",
       "      <td>Q3</td>\n",
       "      <td>15517.1</td>\n",
       "      <td>15380.8</td>\n",
       "      <td>16227.9</td>\n",
       "    </tr>\n",
       "    <tr>\n",
       "      <th>261</th>\n",
       "      <td>2012</td>\n",
       "      <td>Q2</td>\n",
       "      <td>15522.8</td>\n",
       "      <td>15362.4</td>\n",
       "      <td>16121.9</td>\n",
       "    </tr>\n",
       "    <tr>\n",
       "      <th>260</th>\n",
       "      <td>2012</td>\n",
       "      <td>Q1</td>\n",
       "      <td>15500.4</td>\n",
       "      <td>15291.0</td>\n",
       "      <td>15973.9</td>\n",
       "    </tr>\n",
       "    <tr>\n",
       "      <th>259</th>\n",
       "      <td>2011</td>\n",
       "      <td>Q4</td>\n",
       "      <td>15217.0</td>\n",
       "      <td>15190.3</td>\n",
       "      <td>15785.3</td>\n",
       "    </tr>\n",
       "    <tr>\n",
       "      <th>258</th>\n",
       "      <td>2011</td>\n",
       "      <td>Q3</td>\n",
       "      <td>15093.1</td>\n",
       "      <td>15021.1</td>\n",
       "      <td>15587.1</td>\n",
       "    </tr>\n",
       "    <tr>\n",
       "      <th>243</th>\n",
       "      <td>2007</td>\n",
       "      <td>Q4</td>\n",
       "      <td>14816.6</td>\n",
       "      <td>14991.8</td>\n",
       "      <td>14685.3</td>\n",
       "    </tr>\n",
       "    <tr>\n",
       "      <th>257</th>\n",
       "      <td>2011</td>\n",
       "      <td>Q2</td>\n",
       "      <td>14996.1</td>\n",
       "      <td>14989.6</td>\n",
       "      <td>15460.9</td>\n",
       "    </tr>\n",
       "    <tr>\n",
       "      <th>245</th>\n",
       "      <td>2008</td>\n",
       "      <td>Q2</td>\n",
       "      <td>14832.4</td>\n",
       "      <td>14963.4</td>\n",
       "      <td>14813.0</td>\n",
       "    </tr>\n",
       "    <tr>\n",
       "      <th>255</th>\n",
       "      <td>2010</td>\n",
       "      <td>Q4</td>\n",
       "      <td>14904.9</td>\n",
       "      <td>14939.0</td>\n",
       "      <td>15230.2</td>\n",
       "    </tr>\n",
       "    <tr>\n",
       "      <th>242</th>\n",
       "      <td>2007</td>\n",
       "      <td>Q3</td>\n",
       "      <td>14822.4</td>\n",
       "      <td>14938.5</td>\n",
       "      <td>14569.7</td>\n",
       "    </tr>\n",
       "    <tr>\n",
       "      <th>246</th>\n",
       "      <td>2008</td>\n",
       "      <td>Q3</td>\n",
       "      <td>14767.0</td>\n",
       "      <td>14891.6</td>\n",
       "      <td>14843.0</td>\n",
       "    </tr>\n",
       "    <tr>\n",
       "      <th>244</th>\n",
       "      <td>2008</td>\n",
       "      <td>Q1</td>\n",
       "      <td>14842.2</td>\n",
       "      <td>14889.5</td>\n",
       "      <td>14668.4</td>\n",
       "    </tr>\n",
       "    <tr>\n",
       "      <th>...</th>\n",
       "      <td>...</td>\n",
       "      <td>...</td>\n",
       "      <td>...</td>\n",
       "      <td>...</td>\n",
       "      <td>...</td>\n",
       "    </tr>\n",
       "    <tr>\n",
       "      <th>26</th>\n",
       "      <td>1953</td>\n",
       "      <td>Q3</td>\n",
       "      <td>2555.7</td>\n",
       "      <td>2578.9</td>\n",
       "      <td>391.7</td>\n",
       "    </tr>\n",
       "    <tr>\n",
       "      <th>24</th>\n",
       "      <td>1953</td>\n",
       "      <td>Q1</td>\n",
       "      <td>2554.3</td>\n",
       "      <td>2573.4</td>\n",
       "      <td>388.5</td>\n",
       "    </tr>\n",
       "    <tr>\n",
       "      <th>30</th>\n",
       "      <td>1954</td>\n",
       "      <td>Q3</td>\n",
       "      <td>2537.1</td>\n",
       "      <td>2559.4</td>\n",
       "      <td>391.6</td>\n",
       "    </tr>\n",
       "    <tr>\n",
       "      <th>27</th>\n",
       "      <td>1953</td>\n",
       "      <td>Q4</td>\n",
       "      <td>2504.1</td>\n",
       "      <td>2539.8</td>\n",
       "      <td>386.5</td>\n",
       "    </tr>\n",
       "    <tr>\n",
       "      <th>29</th>\n",
       "      <td>1954</td>\n",
       "      <td>Q2</td>\n",
       "      <td>2514.5</td>\n",
       "      <td>2530.7</td>\n",
       "      <td>386.7</td>\n",
       "    </tr>\n",
       "    <tr>\n",
       "      <th>28</th>\n",
       "      <td>1954</td>\n",
       "      <td>Q1</td>\n",
       "      <td>2510.1</td>\n",
       "      <td>2528.0</td>\n",
       "      <td>385.9</td>\n",
       "    </tr>\n",
       "    <tr>\n",
       "      <th>23</th>\n",
       "      <td>1952</td>\n",
       "      <td>Q4</td>\n",
       "      <td>2509.5</td>\n",
       "      <td>2526.4</td>\n",
       "      <td>381.2</td>\n",
       "    </tr>\n",
       "    <tr>\n",
       "      <th>22</th>\n",
       "      <td>1952</td>\n",
       "      <td>Q3</td>\n",
       "      <td>2435.0</td>\n",
       "      <td>2446.1</td>\n",
       "      <td>368.1</td>\n",
       "    </tr>\n",
       "    <tr>\n",
       "      <th>21</th>\n",
       "      <td>1952</td>\n",
       "      <td>Q2</td>\n",
       "      <td>2412.6</td>\n",
       "      <td>2428.5</td>\n",
       "      <td>361.4</td>\n",
       "    </tr>\n",
       "    <tr>\n",
       "      <th>20</th>\n",
       "      <td>1952</td>\n",
       "      <td>Q1</td>\n",
       "      <td>2398.3</td>\n",
       "      <td>2423.5</td>\n",
       "      <td>360.2</td>\n",
       "    </tr>\n",
       "    <tr>\n",
       "      <th>19</th>\n",
       "      <td>1951</td>\n",
       "      <td>Q4</td>\n",
       "      <td>2382.7</td>\n",
       "      <td>2398.1</td>\n",
       "      <td>356.6</td>\n",
       "    </tr>\n",
       "    <tr>\n",
       "      <th>18</th>\n",
       "      <td>1951</td>\n",
       "      <td>Q3</td>\n",
       "      <td>2362.0</td>\n",
       "      <td>2392.8</td>\n",
       "      <td>351.8</td>\n",
       "    </tr>\n",
       "    <tr>\n",
       "      <th>17</th>\n",
       "      <td>1951</td>\n",
       "      <td>Q2</td>\n",
       "      <td>2321.3</td>\n",
       "      <td>2344.5</td>\n",
       "      <td>344.5</td>\n",
       "    </tr>\n",
       "    <tr>\n",
       "      <th>16</th>\n",
       "      <td>1951</td>\n",
       "      <td>Q1</td>\n",
       "      <td>2281.0</td>\n",
       "      <td>2304.5</td>\n",
       "      <td>336.4</td>\n",
       "    </tr>\n",
       "    <tr>\n",
       "      <th>15</th>\n",
       "      <td>1950</td>\n",
       "      <td>Q4</td>\n",
       "      <td>2268.9</td>\n",
       "      <td>2273.4</td>\n",
       "      <td>320.3</td>\n",
       "    </tr>\n",
       "    <tr>\n",
       "      <th>14</th>\n",
       "      <td>1950</td>\n",
       "      <td>Q3</td>\n",
       "      <td>2225.9</td>\n",
       "      <td>2230.4</td>\n",
       "      <td>308.5</td>\n",
       "    </tr>\n",
       "    <tr>\n",
       "      <th>13</th>\n",
       "      <td>1950</td>\n",
       "      <td>Q2</td>\n",
       "      <td>2144.4</td>\n",
       "      <td>2147.6</td>\n",
       "      <td>290.7</td>\n",
       "    </tr>\n",
       "    <tr>\n",
       "      <th>12</th>\n",
       "      <td>1950</td>\n",
       "      <td>Q1</td>\n",
       "      <td>2060.1</td>\n",
       "      <td>2084.6</td>\n",
       "      <td>281.2</td>\n",
       "    </tr>\n",
       "    <tr>\n",
       "      <th>7</th>\n",
       "      <td>1948</td>\n",
       "      <td>Q4</td>\n",
       "      <td>2041.6</td>\n",
       "      <td>2035.3</td>\n",
       "      <td>280.7</td>\n",
       "    </tr>\n",
       "    <tr>\n",
       "      <th>6</th>\n",
       "      <td>1948</td>\n",
       "      <td>Q3</td>\n",
       "      <td>2031.5</td>\n",
       "      <td>2033.2</td>\n",
       "      <td>279.5</td>\n",
       "    </tr>\n",
       "    <tr>\n",
       "      <th>10</th>\n",
       "      <td>1949</td>\n",
       "      <td>Q3</td>\n",
       "      <td>2007.9</td>\n",
       "      <td>2022.8</td>\n",
       "      <td>273.3</td>\n",
       "    </tr>\n",
       "    <tr>\n",
       "      <th>5</th>\n",
       "      <td>1948</td>\n",
       "      <td>Q2</td>\n",
       "      <td>2030.2</td>\n",
       "      <td>2021.9</td>\n",
       "      <td>272.9</td>\n",
       "    </tr>\n",
       "    <tr>\n",
       "      <th>8</th>\n",
       "      <td>1949</td>\n",
       "      <td>Q1</td>\n",
       "      <td>2001.5</td>\n",
       "      <td>2007.5</td>\n",
       "      <td>275.4</td>\n",
       "    </tr>\n",
       "    <tr>\n",
       "      <th>11</th>\n",
       "      <td>1949</td>\n",
       "      <td>Q4</td>\n",
       "      <td>1979.6</td>\n",
       "      <td>2004.7</td>\n",
       "      <td>271.0</td>\n",
       "    </tr>\n",
       "    <tr>\n",
       "      <th>9</th>\n",
       "      <td>1949</td>\n",
       "      <td>Q2</td>\n",
       "      <td>1995.9</td>\n",
       "      <td>2000.8</td>\n",
       "      <td>271.7</td>\n",
       "    </tr>\n",
       "    <tr>\n",
       "      <th>4</th>\n",
       "      <td>1948</td>\n",
       "      <td>Q1</td>\n",
       "      <td>1984.4</td>\n",
       "      <td>1989.5</td>\n",
       "      <td>266.2</td>\n",
       "    </tr>\n",
       "    <tr>\n",
       "      <th>3</th>\n",
       "      <td>1947</td>\n",
       "      <td>Q4</td>\n",
       "      <td>1932.0</td>\n",
       "      <td>1960.7</td>\n",
       "      <td>260.3</td>\n",
       "    </tr>\n",
       "    <tr>\n",
       "      <th>0</th>\n",
       "      <td>1947</td>\n",
       "      <td>Q1</td>\n",
       "      <td>1912.5</td>\n",
       "      <td>1934.5</td>\n",
       "      <td>243.1</td>\n",
       "    </tr>\n",
       "    <tr>\n",
       "      <th>1</th>\n",
       "      <td>1947</td>\n",
       "      <td>Q2</td>\n",
       "      <td>1910.9</td>\n",
       "      <td>1932.3</td>\n",
       "      <td>246.3</td>\n",
       "    </tr>\n",
       "    <tr>\n",
       "      <th>2</th>\n",
       "      <td>1947</td>\n",
       "      <td>Q3</td>\n",
       "      <td>1914.0</td>\n",
       "      <td>1930.3</td>\n",
       "      <td>250.1</td>\n",
       "    </tr>\n",
       "  </tbody>\n",
       "</table>\n",
       "<p>281 rows × 5 columns</p>\n",
       "</div>"
      ],
      "text/plain": [
       "     Year Quarter  Real GDI  Real GDP  Nominal GDP\n",
       "280  2017      Q1   16992.1   16903.2      19057.7\n",
       "279  2016      Q4   16882.1   16851.4      18905.5\n",
       "278  2016      Q3   16953.0   16778.1      18729.1\n",
       "277  2016      Q2   16783.0   16663.5      18538.0\n",
       "276  2016      Q1   16776.1   16571.6      18325.2\n",
       "275  2015      Q4   16789.8   16547.6      18287.2\n",
       "274  2015      Q3   16726.7   16527.6      18227.7\n",
       "273  2015      Q2   16700.6   16460.9      18093.2\n",
       "272  2015      Q1   16599.6   16350.0      17874.7\n",
       "271  2014      Q4   16520.8   16220.2      17735.9\n",
       "270  2014      Q3   16327.9   16139.5      17622.3\n",
       "269  2014      Q2   16136.1   15935.8      17320.9\n",
       "267  2013      Q4   15851.3   15793.9      16999.9\n",
       "268  2014      Q1   15912.8   15757.6      17031.3\n",
       "266  2013      Q3   15752.0   15641.3      16749.3\n",
       "265  2013      Q2   15719.8   15521.6      16541.4\n",
       "264  2013      Q1   15642.7   15491.9      16475.4\n",
       "263  2012      Q4   15650.6   15384.3      16297.3\n",
       "262  2012      Q3   15517.1   15380.8      16227.9\n",
       "261  2012      Q2   15522.8   15362.4      16121.9\n",
       "260  2012      Q1   15500.4   15291.0      15973.9\n",
       "259  2011      Q4   15217.0   15190.3      15785.3\n",
       "258  2011      Q3   15093.1   15021.1      15587.1\n",
       "243  2007      Q4   14816.6   14991.8      14685.3\n",
       "257  2011      Q2   14996.1   14989.6      15460.9\n",
       "245  2008      Q2   14832.4   14963.4      14813.0\n",
       "255  2010      Q4   14904.9   14939.0      15230.2\n",
       "242  2007      Q3   14822.4   14938.5      14569.7\n",
       "246  2008      Q3   14767.0   14891.6      14843.0\n",
       "244  2008      Q1   14842.2   14889.5      14668.4\n",
       "..    ...     ...       ...       ...          ...\n",
       "26   1953      Q3    2555.7    2578.9        391.7\n",
       "24   1953      Q1    2554.3    2573.4        388.5\n",
       "30   1954      Q3    2537.1    2559.4        391.6\n",
       "27   1953      Q4    2504.1    2539.8        386.5\n",
       "29   1954      Q2    2514.5    2530.7        386.7\n",
       "28   1954      Q1    2510.1    2528.0        385.9\n",
       "23   1952      Q4    2509.5    2526.4        381.2\n",
       "22   1952      Q3    2435.0    2446.1        368.1\n",
       "21   1952      Q2    2412.6    2428.5        361.4\n",
       "20   1952      Q1    2398.3    2423.5        360.2\n",
       "19   1951      Q4    2382.7    2398.1        356.6\n",
       "18   1951      Q3    2362.0    2392.8        351.8\n",
       "17   1951      Q2    2321.3    2344.5        344.5\n",
       "16   1951      Q1    2281.0    2304.5        336.4\n",
       "15   1950      Q4    2268.9    2273.4        320.3\n",
       "14   1950      Q3    2225.9    2230.4        308.5\n",
       "13   1950      Q2    2144.4    2147.6        290.7\n",
       "12   1950      Q1    2060.1    2084.6        281.2\n",
       "7    1948      Q4    2041.6    2035.3        280.7\n",
       "6    1948      Q3    2031.5    2033.2        279.5\n",
       "10   1949      Q3    2007.9    2022.8        273.3\n",
       "5    1948      Q2    2030.2    2021.9        272.9\n",
       "8    1949      Q1    2001.5    2007.5        275.4\n",
       "11   1949      Q4    1979.6    2004.7        271.0\n",
       "9    1949      Q2    1995.9    2000.8        271.7\n",
       "4    1948      Q1    1984.4    1989.5        266.2\n",
       "3    1947      Q4    1932.0    1960.7        260.3\n",
       "0    1947      Q1    1912.5    1934.5        243.1\n",
       "1    1947      Q2    1910.9    1932.3        246.3\n",
       "2    1947      Q3    1914.0    1930.3        250.1\n",
       "\n",
       "[281 rows x 5 columns]"
      ]
     },
     "execution_count": 67,
     "metadata": {},
     "output_type": "execute_result"
    }
   ],
   "source": [
    "accounts.sort_values(\"Real GDP\", ascending=False)"
   ]
  },
  {
   "cell_type": "markdown",
   "metadata": {},
   "source": [
    "Now we can clearly see that the highest real GDP was attained in the first quarter of this year, and had a value of 16903.2"
   ]
  },
  {
   "cell_type": "markdown",
   "metadata": {},
   "source": [
    "#### Useful Functions for Numeric Data\n",
    "\n",
    "Here are a few useful functions when dealing with numeric data columns.\n",
    "To find the minimum value in a column, call `min()` on a column of the table."
   ]
  },
  {
   "cell_type": "code",
   "execution_count": 68,
   "metadata": {},
   "outputs": [
    {
     "data": {
      "text/plain": [
       "1930.3"
      ]
     },
     "execution_count": 68,
     "metadata": {},
     "output_type": "execute_result"
    }
   ],
   "source": [
    "accounts[\"Real GDP\"].min()"
   ]
  },
  {
   "cell_type": "markdown",
   "metadata": {},
   "source": [
    "To find the maximum value, call `max()`."
   ]
  },
  {
   "cell_type": "code",
   "execution_count": 69,
   "metadata": {},
   "outputs": [
    {
     "data": {
      "text/plain": [
       "19057.7"
      ]
     },
     "execution_count": 69,
     "metadata": {},
     "output_type": "execute_result"
    }
   ],
   "source": [
    "accounts[\"Nominal GDP\"].max()"
   ]
  },
  {
   "cell_type": "markdown",
   "metadata": {},
   "source": [
    "And to find the average value of a column, use `mean()`."
   ]
  },
  {
   "cell_type": "code",
   "execution_count": 70,
   "metadata": {},
   "outputs": [
    {
     "data": {
      "text/plain": [
       "7890.37046263345"
      ]
     },
     "execution_count": 70,
     "metadata": {},
     "output_type": "execute_result"
    }
   ],
   "source": [
    "accounts[\"Real GDI\"].mean()"
   ]
  },
  {
   "cell_type": "markdown",
   "metadata": {},
   "source": [
    "### Part 3: Visualization <a id='viz'></a>"
   ]
  },
  {
   "cell_type": "markdown",
   "metadata": {},
   "source": [
    "Now that you can read in data and manipulate it, you are now ready to learn about how to visualize data. To begin, run the cells below to import the required packages we will be using."
   ]
  },
  {
   "cell_type": "code",
   "execution_count": 71,
   "metadata": {
    "collapsed": true
   },
   "outputs": [],
   "source": [
    "%matplotlib inline\n",
    "import matplotlib.pyplot as plt"
   ]
  },
  {
   "cell_type": "markdown",
   "metadata": {},
   "source": [
    "We will be using US unemployment data from [FRED](https://fred.stlouisfed.org/) to show what we can do with data. The statement below will put the csv file into a pandas DataFrame."
   ]
  },
  {
   "cell_type": "code",
   "execution_count": 72,
   "metadata": {},
   "outputs": [
    {
     "data": {
      "text/html": [
       "<div>\n",
       "<style scoped>\n",
       "    .dataframe tbody tr th:only-of-type {\n",
       "        vertical-align: middle;\n",
       "    }\n",
       "\n",
       "    .dataframe tbody tr th {\n",
       "        vertical-align: top;\n",
       "    }\n",
       "\n",
       "    .dataframe thead th {\n",
       "        text-align: right;\n",
       "    }\n",
       "</style>\n",
       "<table border=\"1\" class=\"dataframe\">\n",
       "  <thead>\n",
       "    <tr style=\"text-align: right;\">\n",
       "      <th></th>\n",
       "      <th>date</th>\n",
       "      <th>total_unemployed</th>\n",
       "      <th>more_than_15_weeks</th>\n",
       "      <th>not_in_labor_searched_for_work</th>\n",
       "      <th>multi_jobs</th>\n",
       "      <th>leavers</th>\n",
       "      <th>losers</th>\n",
       "      <th>housing_price_index</th>\n",
       "    </tr>\n",
       "  </thead>\n",
       "  <tbody>\n",
       "    <tr>\n",
       "      <th>0</th>\n",
       "      <td>11/1/10</td>\n",
       "      <td>16.9</td>\n",
       "      <td>8696</td>\n",
       "      <td>2531</td>\n",
       "      <td>6708</td>\n",
       "      <td>5.7</td>\n",
       "      <td>63.0</td>\n",
       "      <td>186.07</td>\n",
       "    </tr>\n",
       "    <tr>\n",
       "      <th>1</th>\n",
       "      <td>12/1/10</td>\n",
       "      <td>16.6</td>\n",
       "      <td>8549</td>\n",
       "      <td>2609</td>\n",
       "      <td>6899</td>\n",
       "      <td>6.4</td>\n",
       "      <td>61.2</td>\n",
       "      <td>183.27</td>\n",
       "    </tr>\n",
       "    <tr>\n",
       "      <th>2</th>\n",
       "      <td>1/1/11</td>\n",
       "      <td>16.2</td>\n",
       "      <td>8393</td>\n",
       "      <td>2800</td>\n",
       "      <td>6816</td>\n",
       "      <td>6.5</td>\n",
       "      <td>60.1</td>\n",
       "      <td>181.35</td>\n",
       "    </tr>\n",
       "    <tr>\n",
       "      <th>3</th>\n",
       "      <td>2/1/11</td>\n",
       "      <td>16.0</td>\n",
       "      <td>8175</td>\n",
       "      <td>2730</td>\n",
       "      <td>6741</td>\n",
       "      <td>6.4</td>\n",
       "      <td>60.2</td>\n",
       "      <td>179.66</td>\n",
       "    </tr>\n",
       "    <tr>\n",
       "      <th>4</th>\n",
       "      <td>3/1/11</td>\n",
       "      <td>15.9</td>\n",
       "      <td>8166</td>\n",
       "      <td>2434</td>\n",
       "      <td>6735</td>\n",
       "      <td>6.4</td>\n",
       "      <td>60.3</td>\n",
       "      <td>178.84</td>\n",
       "    </tr>\n",
       "  </tbody>\n",
       "</table>\n",
       "</div>"
      ],
      "text/plain": [
       "      date  total_unemployed  more_than_15_weeks  \\\n",
       "0  11/1/10              16.9                8696   \n",
       "1  12/1/10              16.6                8549   \n",
       "2   1/1/11              16.2                8393   \n",
       "3   2/1/11              16.0                8175   \n",
       "4   3/1/11              15.9                8166   \n",
       "\n",
       "   not_in_labor_searched_for_work  multi_jobs  leavers  losers  \\\n",
       "0                            2531        6708      5.7    63.0   \n",
       "1                            2609        6899      6.4    61.2   \n",
       "2                            2800        6816      6.5    60.1   \n",
       "3                            2730        6741      6.4    60.2   \n",
       "4                            2434        6735      6.4    60.3   \n",
       "\n",
       "   housing_price_index  \n",
       "0               186.07  \n",
       "1               183.27  \n",
       "2               181.35  \n",
       "3               179.66  \n",
       "4               178.84  "
      ]
     },
     "execution_count": 72,
     "metadata": {},
     "output_type": "execute_result"
    }
   ],
   "source": [
    "unemployment_data = pd.read_csv(\"data/detailed_unemployment.csv\")\n",
    "unemployment_data.head()"
   ]
  },
  {
   "cell_type": "markdown",
   "metadata": {},
   "source": [
    "One of the advantages of pandas is its built-in plotting methods. We can simply call `.plot()` on a dataframe to plot columns against one another. All that we have to do is specify which column to plot on which axis. Something special that pandas does is attempt to automatically parse dates into something that it can understand and order them sequentially.\n",
    "\n",
    "**Sidenote:** `total_unemployed` is a percent."
   ]
  },
  {
   "cell_type": "code",
   "execution_count": 73,
   "metadata": {},
   "outputs": [
    {
     "data": {
      "text/plain": [
       "<matplotlib.axes._subplots.AxesSubplot at 0x113b67470>"
      ]
     },
     "execution_count": 73,
     "metadata": {},
     "output_type": "execute_result"
    },
    {
     "data": {
      "image/png": "[encoded data removed]",
      "text/plain": [
       "<Figure size 432x288 with 1 Axes>"
      ]
     },
     "metadata": {},
     "output_type": "display_data"
    }
   ],
   "source": [
    "unemployment_data.plot(x='date', y='total_unemployed')"
   ]
  },
  {
   "cell_type": "markdown",
   "metadata": {},
   "source": [
    "The base package for most plotting in Python is `matplotlib`. Below we will look at how to plot with it. First we will extract the columns that we are interested in, then plot them in a scatter plot. Note that `plt` is the common convention for `matplotlib.pyplot`."
   ]
  },
  {
   "cell_type": "code",
   "execution_count": 74,
   "metadata": {},
   "outputs": [
    {
     "data": {
      "text/plain": [
       "Text(0,0.5,'Total Not In Labor, Searched for Work')"
      ]
     },
     "execution_count": 74,
     "metadata": {},
     "output_type": "execute_result"
    },
    {
     "data": {
      "image/png": "[encoded data removed]",
      "text/plain": [
       "<Figure size 432x288 with 1 Axes>"
      ]
     },
     "metadata": {},
     "output_type": "display_data"
    }
   ],
   "source": [
    "total_unemployed = unemployment_data['total_unemployed']\n",
    "not_labor = unemployment_data['not_in_labor_searched_for_work']\n",
    "\n",
    "#Plot the data by inputting the x and y axis\n",
    "plt.scatter(total_unemployed, not_labor)\n",
    "\n",
    "# we can then go on to customize the plot with labels\n",
    "plt.xlabel(\"Percent Unemployed\")\n",
    "plt.ylabel(\"Total Not In Labor, Searched for Work\")"
   ]
  },
  {
   "cell_type": "markdown",
   "metadata": {},
   "source": [
    "Though matplotlib is sometimes considered an \"ugly\" plotting tool, it is powerful. It is highly customizable and is the foundation for most Python plotting libraries. Check out the [documentation](https://matplotlib.org/api/pyplot_summary.html) to get a sense of all of the things you can do with it, which extend far beyond scatter and line plots. An arguably more attractive package is [seaborn](https://seaborn.pydata.org/), which we will go over in future notebooks."
   ]
  },
  {
   "cell_type": "markdown",
   "metadata": {},
   "source": [
    "#### Question 5: Plotting\n",
    "\n",
    "Try plotting the total percent of people unemployed vs those unemployed for more than 15 weeks."
   ]
  },
  {
   "cell_type": "code",
   "execution_count": 76,
   "metadata": {},
   "outputs": [
    {
     "data": {
      "image/png": "[encoded data removed]",
      "text/plain": [
       "<Figure size 432x288 with 1 Axes>"
      ]
     },
     "metadata": {},
     "output_type": "display_data"
    }
   ],
   "source": [
    "total_unemployed = unemployment_data['total_unemployed']\n",
    "unemp_15_weeks = unemployment_data['more_than_15_weeks']\n",
    "\n",
    "plt.scatter(total_unemployed, unemp_15_weeks)\n",
    "plt.xlabel(\"Total Unemployed\")\n",
    "plt.ylabel(\"Unemployed for More than 15 Weeks\")\n",
    "\n",
    "# note: plt.show() is the equivalent of print, but for graphs\n",
    "plt.show()"
   ]
  },
  {
   "cell_type": "code",
   "execution_count": 77,
   "metadata": {},
   "outputs": [
    {
     "name": "stdout",
     "output_type": "stream",
     "text": [
      "~~~~~~~~~~~~~~~~~~~~~~~~~~~~~~~~~~~~~~~~~~~~~~~~~~~~~~~~~~~~~~~~~~~~~\n",
      "Running tests\n",
      "\n",
      "---------------------------------------------------------------------\n",
      "Test summary\n",
      "    Passed: 1\n",
      "    Failed: 0\n",
      "[ooooooooook] 100.0% passed\n",
      "\n"
     ]
    },
    {
     "data": {
      "text/plain": [
       "{'failed': 0, 'locked': 0, 'passed': 1}"
      ]
     },
     "execution_count": 77,
     "metadata": {},
     "output_type": "execute_result"
    }
   ],
   "source": [
    "ok.grade('q05')"
   ]
  },
  {
   "cell_type": "markdown",
   "metadata": {},
   "source": [
    "## Math and Economic Concepts Review <a id='econ'></a>\n",
    "\n",
    "These questions are a mixture of math review and Econ 1 \"measuring the economy\" concepts review. There will be no OK tests available for feedback, but these questions will be autograded. \n",
    "\n",
    "For questions that are to be answered numerically, there is a code cell that starts with __# ANSWER__ and has a variable currently set to underscores. Replace those underscores with your final answer. It is okay to make other computations in that cell and others, so long a the given variable matches your answer.\n",
    "\n",
    "For free response questions, write your answers in the provided markdown cell that starts with <font color='blue'> ANSWER:</font>. Do not change the heading, and write your entire answer in that one cell."
   ]
  },
  {
   "cell_type": "markdown",
   "metadata": {},
   "source": [
    "### Review: Math as a Tool <a id='chapter 1'></a>"
   ]
  },
  {
   "cell_type": "markdown",
   "metadata": {},
   "source": [
    "#### Suppose a quantity grows at a steady proportional rate of 3% per year. \n",
    "How long will it take to double?"
   ]
  },
  {
   "cell_type": "code",
   "execution_count": 78,
   "metadata": {
    "collapsed": true
   },
   "outputs": [],
   "source": [
    "# ANSWER\n",
    "TIME_TO_DOUBLE = 23"
   ]
  },
  {
   "cell_type": "markdown",
   "metadata": {},
   "source": [
    "Quadruple?"
   ]
  },
  {
   "cell_type": "code",
   "execution_count": 79,
   "metadata": {
    "collapsed": true
   },
   "outputs": [],
   "source": [
    "# ANSWER\n",
    "TIME_TO_QUADRUPLE = 46"
   ]
  },
  {
   "cell_type": "markdown",
   "metadata": {},
   "source": [
    "Grow 1024-fold?"
   ]
  },
  {
   "cell_type": "code",
   "execution_count": 80,
   "metadata": {
    "collapsed": true
   },
   "outputs": [],
   "source": [
    "# ANSWER\n",
    "TIME_TO_1024 = 230"
   ]
  },
  {
   "cell_type": "markdown",
   "metadata": {},
   "source": [
    "#### Suppose we have a quantity x(t) that varies over time following the equation: "
   ]
  },
  {
   "cell_type": "markdown",
   "metadata": {},
   "source": [
    "$ \\frac{dx(t)}{dt} = -\\left(0.06\\right)x + 0.36 $"
   ]
  },
  {
   "cell_type": "markdown",
   "metadata": {},
   "source": [
    "Without integrating the equation:\n",
    "\n",
    "\n",
    "$1.$ Tell me what the long-run steady-state value of $x$--that is, the limit of $x$ as $t$ approaches in infinity--is going to be."
   ]
  },
  {
   "cell_type": "code",
   "execution_count": 81,
   "metadata": {
    "collapsed": true
   },
   "outputs": [],
   "source": [
    "steady_state_val = 6"
   ]
  },
  {
   "cell_type": "markdown",
   "metadata": {},
   "source": [
    "$2.$ Suppose that the value of $x$ at time $t=0$, $x(0)$ equals 12. Once again, without integrating the equation, tell me how long it will take x to close half the distance between its initial value of 12 and its steady-state value. "
   ]
  },
  {
   "cell_type": "code",
   "execution_count": 82,
   "metadata": {
    "collapsed": true
   },
   "outputs": [],
   "source": [
    "half_dist_time = 12"
   ]
  },
  {
   "cell_type": "markdown",
   "metadata": {},
   "source": [
    "$3.$ How long will it take to close 3/4 of the distance? "
   ]
  },
  {
   "cell_type": "code",
   "execution_count": 83,
   "metadata": {
    "collapsed": true
   },
   "outputs": [],
   "source": [
    "three_fourth_time = 24"
   ]
  },
  {
   "cell_type": "markdown",
   "metadata": {},
   "source": [
    "$4.$ $7/8$ of the distance? "
   ]
  },
  {
   "cell_type": "code",
   "execution_count": null,
   "metadata": {
    "collapsed": true
   },
   "outputs": [],
   "source": [
    "seven_eighth_time = 36"
   ]
  },
  {
   "cell_type": "markdown",
   "metadata": {},
   "source": [
    "$5.$ $15/16$ of the distance?"
   ]
  },
  {
   "cell_type": "code",
   "execution_count": 84,
   "metadata": {
    "collapsed": true
   },
   "outputs": [],
   "source": [
    "fifteen_sixteenth = 48"
   ]
  },
  {
   "cell_type": "markdown",
   "metadata": {},
   "source": [
    "Now you are allowed to integrate $\\frac{dx(t)}{dt} = -(0.06)x + 0.36$.\n",
    "\n",
    "$1.$ Write down and solve the indefinite integral."
   ]
  },
  {
   "cell_type": "markdown",
   "metadata": {},
   "source": [
    "<font color='blue'> ANSWER:\n",
    "\n",
    "$ x - 6  = Ae^{-0.06t} $"
   ]
  },
  {
   "cell_type": "markdown",
   "metadata": {},
   "source": [
    "$2.$ Write down and solve the definite integral for the initial condition $x(0) = 12$."
   ]
  },
  {
   "cell_type": "markdown",
   "metadata": {},
   "source": [
    "<font color='blue'> ANSWER:\n",
    "\n",
    "$ x - 6  = 6e^{-0.06t} $"
   ]
  },
  {
   "cell_type": "markdown",
   "metadata": {},
   "source": [
    "$3.$ Write down and solve the definite integral for the initial condition $x(0) = 6$."
   ]
  },
  {
   "cell_type": "markdown",
   "metadata": {},
   "source": [
    "<font color='blue'> ANSWER:\n",
    "\n",
    "$ x - 6  = 0 $"
   ]
  },
  {
   "cell_type": "markdown",
   "metadata": {},
   "source": [
    "#### Suppose we have a quantity $z = (\\frac{x}{y})^\\beta$\n",
    "\n",
    "Suppose $x$ is growing at 4% per year and that $\\beta=1/4$:\n",
    "\n",
    "$1.$ How fast is $z$ growing if $y$ is growing at 0% per year? "
   ]
  },
  {
   "cell_type": "code",
   "execution_count": 87,
   "metadata": {
    "collapsed": true
   },
   "outputs": [],
   "source": [
    "zero_per_growth = 0.01"
   ]
  },
  {
   "cell_type": "markdown",
   "metadata": {},
   "source": [
    "$2.$ If $y$ is growing at 2% per year?"
   ]
  },
  {
   "cell_type": "code",
   "execution_count": 86,
   "metadata": {
    "collapsed": true
   },
   "outputs": [],
   "source": [
    "two_per_growth = 0.005"
   ]
  },
  {
   "cell_type": "markdown",
   "metadata": {},
   "source": [
    "$3.$ If $y$ is growing at 4% per year?"
   ]
  },
  {
   "cell_type": "code",
   "execution_count": 88,
   "metadata": {
    "collapsed": true
   },
   "outputs": [],
   "source": [
    "four_per_growth = 0"
   ]
  },
  {
   "cell_type": "markdown",
   "metadata": {},
   "source": [
    "#### Rule of 72 (Use it for the next four questions)\n",
    "\n",
    "1. If a quantity grows at about 3% per year, how long will it take to double?"
   ]
  },
  {
   "cell_type": "code",
   "execution_count": null,
   "metadata": {
    "collapsed": true
   },
   "outputs": [],
   "source": [
    "time_to_double = 24"
   ]
  },
  {
   "cell_type": "markdown",
   "metadata": {},
   "source": [
    "$2.$ If a quantity shrinks at about 4% per year, how long will it take it to halve itself?"
   ]
  },
  {
   "cell_type": "code",
   "execution_count": null,
   "metadata": {
    "collapsed": true
   },
   "outputs": [],
   "source": [
    "time_to_half = 18"
   ]
  },
  {
   "cell_type": "markdown",
   "metadata": {},
   "source": [
    "$3.$ If a quantity doubles five times, how large is it relative to its original value?"
   ]
  },
  {
   "cell_type": "code",
   "execution_count": null,
   "metadata": {
    "collapsed": true
   },
   "outputs": [],
   "source": [
    "doubled_five_times_ratio = 32"
   ]
  },
  {
   "cell_type": "markdown",
   "metadata": {},
   "source": [
    "$4.$ If a quantity halves itself three times, how large is it relative to its original value?"
   ]
  },
  {
   "cell_type": "code",
   "execution_count": null,
   "metadata": {
    "collapsed": true
   },
   "outputs": [],
   "source": [
    "halved_three_times_ratio = 0.125"
   ]
  },
  {
   "cell_type": "markdown",
   "metadata": {},
   "source": [
    "#### Interactive Model for Rule of 72"
   ]
  },
  {
   "cell_type": "markdown",
   "metadata": {},
   "source": [
    "In future problem sets, you will build models of your own, but for now, look over this code. Its a simple model that shows what happens as you adjust a single parameter (the interest rate) and its effect on the outcome (the time to double). First we need to make sure all of our packages are imported."
   ]
  },
  {
   "cell_type": "code",
   "execution_count": 89,
   "metadata": {
    "collapsed": true
   },
   "outputs": [],
   "source": [
    "import matplotlib.pyplot as plt\n",
    "import numpy as np\n",
    "from ipywidgets import interact, IntSlider\n",
    "%matplotlib inline"
   ]
  },
  {
   "cell_type": "markdown",
   "metadata": {},
   "source": [
    "Our model is going to be graph that shows what happens as the interest rate varies."
   ]
  },
  {
   "cell_type": "code",
   "execution_count": 90,
   "metadata": {
    "collapsed": true
   },
   "outputs": [],
   "source": [
    "def graph_rule_of_72(interest_rate):\n",
    "    # np.linspace takes values evenly spaced between a stop and end point. In this case,\n",
    "    # will take 30 values between 1 and 10. These will be our x values in the graph.\n",
    "    x = np.linspace(1,10,30)\n",
    "    \n",
    "    # Here we create are corresponding y values\n",
    "    y = 72 / x\n",
    "    \n",
    "    print('Time to double:', 72 / interest_rate, 'years')\n",
    "    \n",
    "    # graphing our lines\n",
    "    plt.plot(x,y)\n",
    "    # graphing the specific point for our interest_rate\n",
    "    plt.scatter(interest_rate, 72 / interest_rate, c='r')\n",
    "    \n",
    "    plt.xlabel('interest rate (%)')\n",
    "    plt.ylabel('time (years)')\n",
    "    plt.show()"
   ]
  },
  {
   "cell_type": "markdown",
   "metadata": {},
   "source": [
    "When we call `interact`, select the function that we want to interact with (`graph_rule_of_72`) and tell it what the value we want its parameters to take on. In this case, `graph_rule_of_72` only takes one parameter, `interest_rate`, and we choose to put an adjustable slider there. You can check out the [ipywidget examples](https://github.com/jupyter-widgets/ipywidgets/blob/master/docs/source/examples/Index.ipynb) for more uses."
   ]
  },
  {
   "cell_type": "code",
   "execution_count": 91,
   "metadata": {
    "scrolled": false
   },
   "outputs": [
    {
     "name": "stdout",
     "output_type": "stream",
     "text": [
      "Time to double: 72.0 years\n"
     ]
    },
    {
     "data": {
      "image/png": "[encoded data removed]",
      "text/plain": [
       "<Figure size 432x288 with 1 Axes>"
      ]
     },
     "metadata": {},
     "output_type": "display_data"
    },
    {
     "data": {
      "text/plain": [
       "<function __main__.graph_rule_of_72>"
      ]
     },
     "execution_count": 91,
     "metadata": {},
     "output_type": "execute_result"
    }
   ],
   "source": [
    "interact(graph_rule_of_72, interest_rate=IntSlider(min=1,max=10,step=1))"
   ]
  },
  {
   "cell_type": "markdown",
   "metadata": {},
   "source": [
    "#### Why do DeLong and Olney think that the interest rate and the level of the stock market are important macroeconomic variables?"
   ]
  },
  {
   "cell_type": "markdown",
   "metadata": {},
   "source": [
    "<font color='blue'> ANSWER:"
   ]
  },
  {
   "cell_type": "markdown",
   "metadata": {},
   "source": [
    "#### What are the principal flaws in using national product per worker as a measure of material welfare? Given these flaws, why do we use it anyway?"
   ]
  },
  {
   "cell_type": "markdown",
   "metadata": {},
   "source": [
    "<font color='blue'> ANSWER:"
   ]
  },
  {
   "cell_type": "markdown",
   "metadata": {},
   "source": [
    "#### What is the difference between the nominal interest rate and the real interest rate? Why do DeLong and Olney think that the real interest rate is more important?"
   ]
  },
  {
   "cell_type": "markdown",
   "metadata": {},
   "source": [
    "<font color='blue'> ANSWER:"
   ]
  },
  {
   "cell_type": "markdown",
   "metadata": {},
   "source": [
    "### Review: Measuring the Economy Concepts and Quantities <a id='chapter 2'></a>"
   ]
  },
  {
   "cell_type": "markdown",
   "metadata": {},
   "source": [
    "#### National Income and Product Accounting\n",
    "\n",
    "Explain whether or not, why, and how the following items are included in the calculations of national product:\n",
    "\n",
    "$1.$ Increases in business inventories. "
   ]
  },
  {
   "cell_type": "markdown",
   "metadata": {},
   "source": [
    "<font color='blue'> ANSWER:"
   ]
  },
  {
   "cell_type": "markdown",
   "metadata": {},
   "source": [
    "$2.$ Fees earned by real estate agents on selling existing homes."
   ]
  },
  {
   "cell_type": "markdown",
   "metadata": {},
   "source": [
    "<font color='blue'> ANSWER:"
   ]
  },
  {
   "cell_type": "markdown",
   "metadata": {},
   "source": [
    "$3.$ Social Security checks written by the government. "
   ]
  },
  {
   "cell_type": "markdown",
   "metadata": {},
   "source": [
    "<font color='blue'> ANSWER:"
   ]
  },
  {
   "cell_type": "markdown",
   "metadata": {},
   "source": [
    "$4.$ Building of a new dam by the Army Corps of Engineers."
   ]
  },
  {
   "cell_type": "markdown",
   "metadata": {},
   "source": [
    "<font color='blue'> ANSWER:"
   ]
  },
  {
   "cell_type": "markdown",
   "metadata": {},
   "source": [
    "$5.$ Interest that your parents pay on the mortgage they have on their house."
   ]
  },
  {
   "cell_type": "markdown",
   "metadata": {},
   "source": [
    "<font color='blue'> ANSWER:"
   ]
  },
  {
   "cell_type": "markdown",
   "metadata": {},
   "source": [
    "$6.$ Purchases of foreign-made trucks by American residents"
   ]
  },
  {
   "cell_type": "markdown",
   "metadata": {},
   "source": [
    "<font color='blue'> ANSWER:"
   ]
  },
  {
   "cell_type": "markdown",
   "metadata": {},
   "source": [
    "#### In or Out of National Product? And Why\n",
    "\n",
    "Explain whether or not, why, and how the following items are included in the calculation of national product:\n",
    "\n",
    "$1.$ The sale for \\$25,000 of an automobile that cost \\$20,000 to manufacture that had been produced here at home last year and carried over in inventory."
   ]
  },
  {
   "cell_type": "markdown",
   "metadata": {},
   "source": [
    "<font color='blue'> ANSWER:"
   ]
  },
  {
   "cell_type": "markdown",
   "metadata": {},
   "source": [
    "$2.$ The sale for \\$35,000 of an automobile that cost \\$25,000 to manufacture newly- made at home this year."
   ]
  },
  {
   "cell_type": "markdown",
   "metadata": {},
   "source": [
    "<font color='blue'> ANSWER:"
   ]
  },
  {
   "cell_type": "markdown",
   "metadata": {},
   "source": [
    "$3.$ The sale for \\$45,000 of an automobile that cost \\$30,000 to manufacture that was newly-made abroad this year and imported."
   ]
  },
  {
   "cell_type": "markdown",
   "metadata": {},
   "source": [
    "<font color='blue'> ANSWER:"
   ]
  },
  {
   "cell_type": "markdown",
   "metadata": {},
   "source": [
    "$4.$ The sale for \\$25,000 of an automobile that cost \\$20,000 to manufacture that was made abroad and imported last year."
   ]
  },
  {
   "cell_type": "markdown",
   "metadata": {},
   "source": [
    "<font color='blue'> ANSWER:"
   ]
  },
  {
   "cell_type": "markdown",
   "metadata": {},
   "source": [
    "#### In or Out of National Product? And Why II\n",
    "\n",
    "Explain whether or not, why, and how the following items are included in the calculation of GDP:\n",
    "\n",
    "$1.$ The purchase for \\$500 of a dishwasher produced here at home this year."
   ]
  },
  {
   "cell_type": "markdown",
   "metadata": {},
   "source": [
    "<font color='blue'> ANSWER:"
   ]
  },
  {
   "cell_type": "markdown",
   "metadata": {},
   "source": [
    "$2.$ The purchase for $500 of a dishwasher made abroad this year."
   ]
  },
  {
   "cell_type": "markdown",
   "metadata": {},
   "source": [
    "<font color='blue'> ANSWER:"
   ]
  },
  {
   "cell_type": "markdown",
   "metadata": {},
   "source": [
    "$3.$ The purchase for $500 of a used dishwasher."
   ]
  },
  {
   "cell_type": "markdown",
   "metadata": {},
   "source": [
    "<font color='blue'> ANSWER:"
   ]
  },
  {
   "cell_type": "markdown",
   "metadata": {},
   "source": [
    "$4.$ The manufacture of a new dishwasher here at home for $500 of a dishwasher that\n",
    "then nobody wants to buy."
   ]
  },
  {
   "cell_type": "markdown",
   "metadata": {},
   "source": [
    "<font color='blue'> ANSWER:"
   ]
  },
  {
   "cell_type": "markdown",
   "metadata": {},
   "source": [
    "#### Components of National Income and Product\n",
    "\n",
    "Suppose that the appliance store buys a refrigerator from the manufacturer on December 15, 2018 for \\$600, and that you then buy that refrigerator on January 15, 2019 for \\$1000:\n",
    "\n",
    "$1.$ What is the contribution to GDP in 2018? "
   ]
  },
  {
   "cell_type": "code",
   "execution_count": null,
   "metadata": {
    "collapsed": true
   },
   "outputs": [],
   "source": [
    "contribution_2018 = ___"
   ]
  },
  {
   "cell_type": "markdown",
   "metadata": {},
   "source": [
    "$2.$ How is the refrigerator accounted for in the NIPA in 2019?"
   ]
  },
  {
   "cell_type": "markdown",
   "metadata": {},
   "source": [
    "<font color='blue'> ANSWER:"
   ]
  },
  {
   "cell_type": "markdown",
   "metadata": {},
   "source": [
    "$3.$ What is the contribution to GDP in 2018?"
   ]
  },
  {
   "cell_type": "code",
   "execution_count": null,
   "metadata": {
    "collapsed": true
   },
   "outputs": [],
   "source": [
    "contribution_2019 = ___"
   ]
  },
  {
   "cell_type": "markdown",
   "metadata": {},
   "source": [
    "$4.$ How is the refrigerator accounted for in the NIPA in 2019?"
   ]
  },
  {
   "cell_type": "markdown",
   "metadata": {},
   "source": [
    "<font color='blue'> ANSWER:"
   ]
  },
  {
   "cell_type": "code",
   "execution_count": null,
   "metadata": {
    "collapsed": true
   },
   "outputs": [],
   "source": [
    "# These lines are reading in CSV files and creating dataframes from then, you don't have to change about them!\n",
    "unemployment = pd.read_csv(\"data/Unemployment.csv\")\n",
    "quarterly_acc = pd.read_csv(\"data/Quarterly_Accounts.csv\")\n",
    "from_2007 = quarterly_acc.loc[(quarterly_acc[\"Year\"].isin(np.arange(2007, 2018)))]"
   ]
  },
  {
   "cell_type": "markdown",
   "metadata": {},
   "source": [
    "### Estimating National Product\n",
    "\n",
    "The Bureau of Economic Analysis measures national product in two different ways: as total expenditure on the economy’s output of goods and services and as the total income of everyone in the economy. Since – as you learned in earlier courses – these two things are the same, the two approaches should give the same answer. But in practice they do not.\n",
    "\n",
    "We have provided a data table `quarterly_gdp` that contains quarterly data on real GDP measured on the expenditure side (referred to in the National Income and Product Accounts as “Real Gross Domestic Product, chained dollars”) and real GDP measured on the income side (referred to as “Real Gross Domestic Income, chained dollars”). The table refers to Real Gross Dometic Product as \"Real GDP\" and to Real Gross Dometic Income as \"Real GDI\", and they are measured in billions of dollars. (Note: You will not have to use Nominal GDP)"
   ]
  },
  {
   "cell_type": "markdown",
   "metadata": {},
   "source": [
    "Another table, `from_2007`, has been created from `quarterly_gdp`, and includes information from 2007 to 2017. \n",
    "Below is a snippet from `from_2007`:"
   ]
  },
  {
   "cell_type": "code",
   "execution_count": null,
   "metadata": {
    "collapsed": true
   },
   "outputs": [],
   "source": [
    "from_2007.head(10)"
   ]
  },
  {
   "cell_type": "markdown",
   "metadata": {},
   "source": [
    "$1.$ Compute the growth rate at an annual rate of each of the two series by quarter for\n",
    "2007:Q1–2012:Q4."
   ]
  },
  {
   "cell_type": "code",
   "execution_count": null,
   "metadata": {
    "collapsed": true
   },
   "outputs": [],
   "source": [
    "gdi_rate = ___\n",
    "gdp_rate = ___"
   ]
  },
  {
   "cell_type": "markdown",
   "metadata": {},
   "source": [
    "$2.$ Describe any two things you see when you compare the two series that you find\n",
    "interesting, and explain why you find them interesting."
   ]
  },
  {
   "cell_type": "markdown",
   "metadata": {},
   "source": [
    "<font color='blue'> ANSWER:"
   ]
  },
  {
   "cell_type": "markdown",
   "metadata": {},
   "source": [
    "#### Calculating Real Magnitudes:\n",
    "\n",
    "$1.$ When you calculate real national product, do you do so by dividing nominal national product by the price level or by subtracting the price level from nominal national product? "
   ]
  },
  {
   "cell_type": "markdown",
   "metadata": {},
   "source": [
    "<font color='blue'> ANSWER:"
   ]
  },
  {
   "cell_type": "markdown",
   "metadata": {},
   "source": [
    "$2.$ When you calculate the real interest rate, do you do so by dividing the nominal interest rate by the price level or by subtracting the inflation rate from the nominal interest rate? "
   ]
  },
  {
   "cell_type": "markdown",
   "metadata": {},
   "source": [
    "<font color='blue'> ANSWER:"
   ]
  },
  {
   "cell_type": "markdown",
   "metadata": {},
   "source": [
    "$3.$ Are your answers to (a) and (b) the same? Why or why not?"
   ]
  },
  {
   "cell_type": "markdown",
   "metadata": {},
   "source": [
    "<font color='blue'> ANSWER:"
   ]
  },
  {
   "cell_type": "markdown",
   "metadata": {},
   "source": [
    "### Unemployment Rate\n",
    "\n",
    "Use the `unemployment` table provided to answer the following questions. ***All numbers (other than percents) are in the thousands.***"
   ]
  },
  {
   "cell_type": "markdown",
   "metadata": {},
   "source": [
    "Here are the first five entries of the table."
   ]
  },
  {
   "cell_type": "code",
   "execution_count": null,
   "metadata": {
    "collapsed": true
   },
   "outputs": [],
   "source": [
    "unemployment.head()"
   ]
  },
  {
   "cell_type": "markdown",
   "metadata": {},
   "source": [
    "#### What, roughly, was the highest level the U.S. unemployment rate (measured as Percent Unemployed of Labor Force in the table) reached in:\n",
    "\n",
    "$1.$ The 20th century?"
   ]
  },
  {
   "cell_type": "code",
   "execution_count": null,
   "metadata": {
    "collapsed": true
   },
   "outputs": [],
   "source": [
    "unemployment_20th = ___"
   ]
  },
  {
   "cell_type": "markdown",
   "metadata": {},
   "source": [
    "$2.$ The past fifty years? "
   ]
  },
  {
   "cell_type": "code",
   "execution_count": null,
   "metadata": {
    "collapsed": true
   },
   "outputs": [],
   "source": [
    "unemployment_past_50 = ___"
   ]
  },
  {
   "cell_type": "markdown",
   "metadata": {},
   "source": [
    "$3.$ The twenty years before 2006?"
   ]
  },
  {
   "cell_type": "code",
   "execution_count": null,
   "metadata": {
    "collapsed": true
   },
   "outputs": [],
   "source": [
    "unemployment_before_2006 = ___"
   ]
  },
  {
   "cell_type": "markdown",
   "metadata": {},
   "source": [
    "$4.$ Given your answers to (1) through (3), Do you think there is a connection between your answer to the question above and the fact that Federal Reserve Chair Alan Greenspan received a five-minute standing ovation at the end of the first of many events marking his retirement in 2005?"
   ]
  },
  {
   "cell_type": "markdown",
   "metadata": {},
   "source": [
    "<font color='blue'> ANSWER:"
   ]
  },
  {
   "cell_type": "markdown",
   "metadata": {},
   "source": [
    "#### The State of the Labor Market\n",
    "\n",
    "$1.$ About how many people lose or quit their jobs in an average year?"
   ]
  },
  {
   "cell_type": "code",
   "execution_count": null,
   "metadata": {
    "collapsed": true
   },
   "outputs": [],
   "source": [
    "average_quitters = ___"
   ]
  },
  {
   "cell_type": "markdown",
   "metadata": {},
   "source": [
    "$2.$ About how many people get jobs in an average year?"
   ]
  },
  {
   "cell_type": "code",
   "execution_count": null,
   "metadata": {
    "collapsed": true
   },
   "outputs": [],
   "source": [
    "average_getters = ___"
   ]
  },
  {
   "cell_type": "markdown",
   "metadata": {},
   "source": [
    "$3.$ About how many people are unemployed in an average year?"
   ]
  },
  {
   "cell_type": "code",
   "execution_count": null,
   "metadata": {
    "collapsed": true
   },
   "outputs": [],
   "source": [
    "average_unemployed = ___"
   ]
  },
  {
   "cell_type": "markdown",
   "metadata": {},
   "source": [
    "$4.$ About how many people are at work in an average year?"
   ]
  },
  {
   "cell_type": "code",
   "execution_count": null,
   "metadata": {
    "collapsed": true
   },
   "outputs": [],
   "source": [
    "average_workers = ___"
   ]
  },
  {
   "cell_type": "markdown",
   "metadata": {},
   "source": [
    "$5.$ About how many people are unemployed now?"
   ]
  },
  {
   "cell_type": "code",
   "execution_count": null,
   "metadata": {
    "collapsed": true
   },
   "outputs": [],
   "source": [
    "unemployed_now = ___"
   ]
  },
  {
   "cell_type": "markdown",
   "metadata": {},
   "source": [
    "#### National Income Accounting:\n",
    "\n",
    "$1.$ What was the level of real GDP in 2005 dollars in 1970?"
   ]
  },
  {
   "cell_type": "code",
   "execution_count": null,
   "metadata": {
    "collapsed": true
   },
   "outputs": [],
   "source": [
    "real_gdp_2005 = ___"
   ]
  },
  {
   "cell_type": "markdown",
   "metadata": {},
   "source": [
    "$2.$ What was the rate of inflation in the United States in 2000?"
   ]
  },
  {
   "cell_type": "code",
   "execution_count": null,
   "metadata": {
    "collapsed": true
   },
   "outputs": [],
   "source": [
    "inflation_rate_2000 = ___"
   ]
  },
  {
   "cell_type": "markdown",
   "metadata": {},
   "source": [
    "$3.$ Explain whether or not, how, and why the following items are included in the calculation of GDP: (i) rent you pay on an apartment, (ii) purchase of a used textbook, (iii) purchase of a new tank by the Department of Defense, (iv) watching an advertisement on youtube."
   ]
  },
  {
   "cell_type": "markdown",
   "metadata": {},
   "source": [
    "<font color='blue'> ANSWER:"
   ]
  },
  {
   "cell_type": "markdown",
   "metadata": {},
   "source": [
    "Congratulations, you have finished your first assignment for Econ 101B! Run the cell below to submit all of your work. Make sure to check on OK to make sure that it has uploaded."
   ]
  },
  {
   "cell_type": "code",
   "execution_count": null,
   "metadata": {
    "collapsed": true
   },
   "outputs": [],
   "source": [
    "_ = ok.submit()"
   ]
  },
  {
   "cell_type": "markdown",
   "metadata": {},
   "source": [
    "Some materials this notebook were taken from [Data 8](http://data8.org/), [CS 61A](http://cs61a.org/), and  [DS Modules](http://data.berkeley.edu/education/modules) lessons."
   ]
  }
 ],
 "metadata": {
  "anaconda-cloud": {},
  "kernelspec": {
   "display_name": "Python 3",
   "language": "python",
   "name": "python3"
  },
  "language_info": {
   "codemirror_mode": {
    "name": "ipython",
    "version": 3
   },
   "file_extension": ".py",
   "mimetype": "text/x-python",
   "name": "python",
   "nbconvert_exporter": "python",
   "pygments_lexer": "ipython3",
   "version": "3.6.1"
  }
 },
 "nbformat": 4,
 "nbformat_minor": 2
}
