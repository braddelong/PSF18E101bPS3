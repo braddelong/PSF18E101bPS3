{
 "cells": [
  {
   "cell_type": "markdown",
   "metadata": {},
   "source": [
    "## Directions for Problem Set 3: Intro to Python\n",
    "\n",
    "**Due via <http://okpy.org> at 11:59 pm on Wednesday September 5, 2018...**\n",
    "\n",
    "There are two ways to do this problem set:\n",
    "\n",
    "1. In the Berkeley datahub cloud, by surfing to the link: <http://datahub.berkeley.edu/user-redirect/interact?account=braddelong&repo=PSF18E101bPS3&branch=master&path=PS3_Intro_to_Python.ipynb>.\n",
    "\n",
    "2. On your own machine, by surfing to the directory <https://github.com/braddelong/PSF18E101bPS3> and then downloading it by clicking the green button.\n",
    "\n",
    "Report errors/problems to delong@econ.berkeley.edu with subject line starting: \"Econ_101b:_data8_errors:\" or \"Econ_101b:_python_errors:\"\n",
    "\n",
    "----\n",
    "\n",
    "### More Detailed Directions for Using the Berkeley datahub Cloud\n",
    "\n",
    "1. Go to: http://datahub.berkeley.edu/user-redirect/interact?account=braddelong&repo=PSF18E101bPS3&branch=master&path=PS3_Intro_to_Python.ipynb\n",
    "\n",
    "2. Click the \"Sign in with Calnet ID\" button (You _may_ have to then choose the \"right\" gmail account associated with your CalNet ID. If you have two (or more) gmail accounts, and if your computer thinks you are already signed into one of them, there may be problems.) (Make sure your two-factor identification works.) (It my well be best to do this in an \"incognito\" window.)\n",
    "\n",
    "3. Do the notebook. Clicking the triangular \"play\" arrow or shift-return or control-return will run a (code or markdown) cell. But in the okpy.org authorization cell, the first code cell under the \"Submitting Your Work\" heading, it wants you to just press \"return\" after you have entered your okpy.org code into the \"Paste your code here:\" box...\n",
    "\n",
    "4. Report your (inevitable) errors via email to delong@econ.berkeley.edu with subject line starting \"Econ_101b:_data8_errors:\""
   ]
  }
 ],
 "metadata": {
  "kernelspec": {
   "display_name": "Python 3",
   "language": "python",
   "name": "python3"
  },
  "language_info": {
   "codemirror_mode": {
    "name": "ipython",
    "version": 3
   },
   "file_extension": ".py",
   "mimetype": "text/x-python",
   "name": "python",
   "nbconvert_exporter": "python",
   "pygments_lexer": "ipython3",
   "version": "3.6.5"
  }
 },
 "nbformat": 4,
 "nbformat_minor": 2
}
